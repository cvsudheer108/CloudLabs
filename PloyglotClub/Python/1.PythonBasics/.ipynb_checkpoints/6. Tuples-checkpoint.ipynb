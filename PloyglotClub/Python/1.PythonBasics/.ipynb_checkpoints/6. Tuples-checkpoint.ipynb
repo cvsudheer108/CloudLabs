{
 "cells": [
  {
   "cell_type": "markdown",
   "metadata": {},
   "source": [
    "# Tuples\n",
    "1. tuple is another sequence data type that is similar to the list. \n",
    "2. A tuple consists of a number of values separated by commas. Unlike lists, however, tuples are enclosed within parentheses.\n",
    "3. Main difference between them is that <b>Tuples are read-only</b>"
   ]
  },
  {
   "cell_type": "markdown",
   "metadata": {},
   "source": [
    "## Defining tuples\n"
   ]
  },
  {
   "cell_type": "code",
   "execution_count": 28,
   "metadata": {},
   "outputs": [
    {
     "name": "stdout",
     "output_type": "stream",
     "text": [
      "\n",
      " Int tuple:  (1, 2, 3)\n",
      "\n",
      " Mixed Data Type tuple:  ('abcd', 786, 2.23, 'john', 70.2)\n",
      "\n",
      " Nested Tuple:  ('abcd', 786, 2.23, (1, 3, 'Name'))\n",
      "Just Int => 1\n",
      "Int Tuple => (1,)\n",
      "('123',)\n"
     ]
    }
   ],
   "source": [
    "# Int tuples\n",
    "t1 = (1,2,3)\n",
    "print(\"\\n Int tuple: \", t1)\n",
    "\n",
    "tuple1 = ( 'abcd', 786 , 2.23, 'john', 70.2  )\n",
    "print(\"\\n Mixed Data Type tuple: \", tuple1)\n",
    "\n",
    "tuple1 = ( 'abcd', 786 , 2.23, (1,3,\"Name\"))\n",
    "print(\"\\n Nested Tuple: \", tuple1)\n",
    "\n",
    "# Define one elemnt tuple : CAUTION WITH ONLY ONE ITEM, YOU NEED COMMA, else WRONG DATA TYPE ASSUMED BY Python\n",
    "tuple3 = (1) \n",
    "print(\"Just Int =>\", tuple3)\n",
    "tuple3 = (1, )\n",
    "print(\"Int Tuple =>\", tuple3)\n",
    "# OR\n",
    "tuple3 = \"123\",\n",
    "print(tuple3)"
   ]
  },
  {
   "cell_type": "markdown",
   "metadata": {},
   "source": [
    "## Tuple Indexing and Slicing"
   ]
  },
  {
   "cell_type": "code",
   "execution_count": 19,
   "metadata": {},
   "outputs": [
    {
     "name": "stdout",
     "output_type": "stream",
     "text": [
      "('abcd', 786, 2.23, [1, 3, 'Name'])\n",
      "Index 0 =>  abcd\n",
      "Slice 1 & 2 =>  (786, 2.23)\n",
      "Slice from index 2 till end  (2.23, [1, 3, 'Name'])\n",
      "Last item in tuple =>  [1, 3, 'Name']\n",
      "Slice from start to -2 =>  ('abcd', 786)\n",
      "Slice alterbative ones =>  ('abcd', 2.23)\n",
      "Slice alterbative ones, starting from second =>  (786, [1, 3, 'Name'])\n",
      "Negative Slice (reverse) with alterbative ones =>  ([1, 3, 'Name'], 786)\n",
      "Print Twice =>  (123, 'john', 123, 'john')\n",
      "Append Tuples =>  ('abcd', 786, 2.23, [1, 3, 'Name'], 123, 'john')\n",
      "('abcd', 786, 2.23, [1000, 3, 'Name'])\n"
     ]
    }
   ],
   "source": [
    "tuple1 = ('abcd', 786 , 2.23, [1,3,\"Name\"])\n",
    "tinytuple = (123, 'john')\n",
    "\n",
    "print (tuple1)           # Prints complete list\n",
    "print (\"Index 0 => \", tuple1[0])        # Prints first element of the list\n",
    "print (\"Slice 1 & 2 => \", tuple1[1:3])      # Prints elements starting from index 1 to 2 (excluding 3)\n",
    "print (\"Slice from index 2 till end \", tuple1[2:])       # Prints elements starting from 3rd element\n",
    "\n",
    "# Negative indexing\n",
    "print (\"Last item in tuple => \", tuple1[-1])       \n",
    "print (\"Slice from start to -2 => \", tuple1[:-2]) \n",
    "\n",
    "#Slicing with steps\n",
    "print (\"Slice alterbative ones => \", tuple1[::2]) \n",
    "print (\"Slice alterbative ones, starting from second => \", tuple1[1::2])\n",
    "print (\"Negative Slice (reverse) with alterbative ones => \", tuple1[::-2]) \n",
    "\n",
    "print (\"Print Twice => \",tinytuple * 2)   # Prints list two times\n",
    "print (\"Append Tuples => \",tuple1 + tinytuple) # Prints concatenated new tuple\n",
    "\n",
    "\n"
   ]
  },
  {
   "cell_type": "markdown",
   "metadata": {},
   "source": [
    "## Editing Tuple Contents"
   ]
  },
  {
   "cell_type": "code",
   "execution_count": 21,
   "metadata": {},
   "outputs": [
    {
     "name": "stdout",
     "output_type": "stream",
     "text": [
      "('abcd', 786, 2.23, [1000, 3, 'Name'])\n"
     ]
    }
   ],
   "source": [
    "# Cant edit regulat tuple members\n",
    "tuple1 = ('abcd', 786 , 2.23, [1,3,\"Name\"])\n",
    "# tuple1[0] = \"ad\"   ## Error : 'tuple' object does not support item assignment\n",
    "\n",
    "# But can edit list members of a Tuple\n",
    "tuple1[3][0] = 1000    # Tuple can't be updated. Error : Invalid syntax with tuple#\n",
    "print(tuple1)"
   ]
  },
  {
   "cell_type": "markdown",
   "metadata": {},
   "source": [
    "## Tuple : Type Checking"
   ]
  },
  {
   "cell_type": "code",
   "execution_count": 23,
   "metadata": {},
   "outputs": [
    {
     "name": "stdout",
     "output_type": "stream",
     "text": [
      "\n",
      " Tuple : Type Checking:  <class 'tuple'>\n",
      "\n",
      " CAUTION : One Element Tuple Type Checking: Wrong Type Assumed :  <class 'str'>\n",
      "\n",
      " FIX FOR ONE ELEMENT TUPLE TYPE CHECKING : One Element Tuple Type Checking: Correct Syntax with a comma <class 'tuple'>\n",
      "\n",
      " SIMPLE TUPLE : One Element Tuple Type Checking: Correct Syntax with comma, no brackets <class 'tuple'>\n"
     ]
    }
   ],
   "source": [
    "tuple1 = (\"123\", 456)\n",
    "print(\"\\n Tuple : Type Checking: \", type(tuple1))\n",
    "tuple1 = (\"123\")\n",
    "print(\"\\n CAUTION : One Element Tuple Type Checking: Wrong Type Assumed : \", type(tuple1))\n",
    "\n",
    "tuple1 = (\"123\",)\n",
    "print(\"\\n FIX FOR ONE ELEMENT TUPLE TYPE CHECKING : One Element Tuple Type Checking: Correct Syntax with a comma\", type(tuple1))\n",
    "tuple1 = \"123\",\n",
    "print(\"\\n SIMPLE TUPLE : One Element Tuple Type Checking: Correct Syntax with comma, no brackets\", type(tuple1))"
   ]
  },
  {
   "cell_type": "markdown",
   "metadata": {},
   "source": [
    "## Tuple Functions"
   ]
  },
  {
   "cell_type": "code",
   "execution_count": 31,
   "metadata": {},
   "outputs": [
    {
     "name": "stdout",
     "output_type": "stream",
     "text": [
      "\n",
      " Tuple Count() : Counts the number of occurances of ane element : 2\n",
      "\n",
      " Tuple Index() : Returns the Index of the first occurace of element : 0\n",
      "\n",
      " Tuple Membership : See whethe element is present or not : True True\n",
      "\n",
      " Tuple length : How many elements are present: 5\n",
      "\n",
      " Sort Tuple : Creates a new tuple with sorted elements: [1, 1, 2, 3, 5]\n",
      "\n",
      " Group operations - Tuple : Max, Min, Sum: 5 1 12\n"
     ]
    }
   ],
   "source": [
    "tuple1 = (1,2,3,1,5)\n",
    "print(\"\\n Tuple Count() : Counts the number of occurances of ane element :\", tuple1.count(1))  \n",
    "\n",
    "print(\"\\n Tuple Index() : Returns the Index of the first occurace of element :\", tuple1.index(1)) \n",
    "\n",
    "print(\"\\n Tuple Membership : See whethe element is present or not :\", 1 in tuple1, 10 not in tuple1) \n",
    "\n",
    "print(\"\\n Tuple length : How many elements are present:\", len(tuple1)) \n",
    "\n",
    "#NOTE : There is ni in-place sort for Tuple\n",
    "#tuple1.sort(reverse=true)\n",
    "#print(\"\\n Sort Tuple Implace : Creates a new tuple with sorted elements:\", sorted(tuple1)) \n",
    "\n",
    "print(\"\\n Sort Tuple : Creates a new tuple with sorted elements:\", sorted(tuple1)) \n",
    "\n",
    "print(\"\\n Group operations - Tuple : Max, Min, Sum:\", max(tuple1), min(tuple1), sum(tuple1))"
   ]
  },
  {
   "cell_type": "markdown",
   "metadata": {},
   "source": [
    "## Delte Tuple\n",
    "1. Can delete only entire tuple, can't delete items of tuple"
   ]
  },
  {
   "cell_type": "code",
   "execution_count": null,
   "metadata": {},
   "outputs": [],
   "source": [
    "tuple1 = (\"123\", [4,5,6])\n",
    "del tuple1"
   ]
  },
  {
   "cell_type": "code",
   "execution_count": null,
   "metadata": {},
   "outputs": [],
   "source": []
  },
  {
   "cell_type": "code",
   "execution_count": null,
   "metadata": {},
   "outputs": [],
   "source": []
  },
  {
   "cell_type": "code",
   "execution_count": null,
   "metadata": {},
   "outputs": [],
   "source": []
  },
  {
   "cell_type": "code",
   "execution_count": null,
   "metadata": {},
   "outputs": [],
   "source": []
  }
 ],
 "metadata": {
  "kernelspec": {
   "display_name": "Python 3",
   "language": "python",
   "name": "python3"
  },
  "language_info": {
   "codemirror_mode": {
    "name": "ipython",
    "version": 3
   },
   "file_extension": ".py",
   "mimetype": "text/x-python",
   "name": "python",
   "nbconvert_exporter": "python",
   "pygments_lexer": "ipython3",
   "version": "3.7.1"
  }
 },
 "nbformat": 4,
 "nbformat_minor": 2
}
