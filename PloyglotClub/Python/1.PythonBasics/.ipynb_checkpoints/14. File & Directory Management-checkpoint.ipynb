{
 "cells": [
  {
   "cell_type": "markdown",
   "metadata": {},
   "source": [
    "# File Management\n",
    "Helps to perform various file operations.<br/>\n",
    "The following modes of operations are available for an open() command.<br/>\n",
    "r - Read, default.<br/>\n",
    "w - Write, clears a file if existing, creates a new one if not existing.<br/>\n",
    "x - Exclusive , throws an exception if the file already exists.<br/>\n",
    "a - Append mode, append to an existing file, creates a new one if not existing. __You can't read in append mode__<br/>\n",
    "[+] - Open a file for a read or write<br/>\n",
    "t - text mode<br/>\n",
    "b - binary mode<br/>"
   ]
  },
  {
   "cell_type": "code",
   "execution_count": 177,
   "metadata": {},
   "outputs": [
    {
     "name": "stdout",
     "output_type": "stream",
     "text": [
      "First line \n",
      "Second line \n",
      "\n"
     ]
    }
   ],
   "source": [
    "f = open(\"test.txt\",\"w\")\n",
    "f.write(\"First line \\n\")\n",
    "f.write(\"Second line \\n\")\n",
    "f.close()\n",
    "f = open(\"test.txt\",\"r\")\n",
    "print(f.read())"
   ]
  },
  {
   "cell_type": "code",
   "execution_count": 3,
   "metadata": {},
   "outputs": [
    {
     "name": "stdout",
     "output_type": "stream",
     "text": [
      "First line \n",
      "Second line \n",
      "\n"
     ]
    }
   ],
   "source": [
    "# Should always close the file handle after update.. finally is a better place for that\n",
    "try:\n",
    "    f = open(\"test.txt\",\"w\")\n",
    "    f.write(\"First line \\n\")\n",
    "    f.write(\"Second line \\n\")\n",
    "    f = open(\"test.txt\",\"r\")\n",
    "    print(f.read())\n",
    "finally:\n",
    "    f.close()"
   ]
  },
  {
   "cell_type": "code",
   "execution_count": 1,
   "metadata": {},
   "outputs": [
    {
     "name": "stdout",
     "output_type": "stream",
     "text": [
      "appending..\n",
      "Second line \n",
      "another append line\n",
      "another append line\n",
      "\n",
      "appending..\n",
      "Second line \n",
      "another append line\n",
      "another append line\n",
      "another append line\n",
      "\n"
     ]
    }
   ],
   "source": [
    "# Read or write file\n",
    "try:\n",
    "    f = open(\"test.txt\", \"r+\")  # Read and write mode, NOTE the file has to exist\n",
    "    f.write(\"appending..\\n\")    # This will replace the first line in the existing file, as the file pointer was pointing to the beginning\n",
    "    f.seek(0)    # Move the pointer back to beginning\n",
    "    print(f.read())\n",
    "    \n",
    "    # Opene in the append mode to append at the end\n",
    "    f = open(\"test.txt\", \"a\")\n",
    "    f.write(\"another append line\\n\")\n",
    "    \n",
    "    f = open(\"test.txt\")    \n",
    "    print(f.read())\n",
    "    \n",
    "finally:\n",
    "    f.close()"
   ]
  },
  {
   "cell_type": "markdown",
   "metadata": {},
   "source": [
    "## File Pointer Operations"
   ]
  },
  {
   "cell_type": "code",
   "execution_count": 180,
   "metadata": {},
   "outputs": [
    {
     "name": "stdout",
     "output_type": "stream",
     "text": [
      "appe\n",
      "4\n",
      "nding..\n",
      "Se\n",
      "--Going to read rest of the line--\n",
      "cond line \n",
      "another append line\n",
      "\n",
      "appending..\n",
      "Second line \n",
      "another append line\n",
      "\n"
     ]
    }
   ],
   "source": [
    "f = open(\"test.txt\", \"r+\")   # Read and write\n",
    "# Read first 4 chars\n",
    "print(f.read(4))  \n",
    "#Get the current position of fiel cursor\n",
    "print(f.tell())\n",
    "# Read next 10 chard reading from the current position\n",
    "print(f.read(10))\n",
    "#read rest of the file, from the current cusrsor position\n",
    "print(\"--Going to read rest of the line--\")\n",
    "print(f.read())\n",
    "\n",
    "#Reset the cursor to beginning\n",
    "f.seek(0)\n",
    "print(f.read())  # Read full file from beginning\n"
   ]
  },
  {
   "cell_type": "markdown",
   "metadata": {},
   "source": [
    "## seek()\n",
    "seek(offset,from_where) <br/>\n",
    "from_where : <br/>\n",
    "0 - from beginning <br/>\n",
    "1 - from the current position <br/>\n",
    "2 - from the end position <br/>"
   ]
  },
  {
   "cell_type": "code",
   "execution_count": 181,
   "metadata": {},
   "outputs": [
    {
     "name": "stdout",
     "output_type": "stream",
     "text": [
      "appending..\n",
      "Second line \n",
      "another append line\n",
      "one more line\n",
      "\n"
     ]
    }
   ],
   "source": [
    "f = open(\"test.txt\", \"r+\")   # Read and write\n",
    "f.seek(0,2)     # Point to the last char\n",
    "f.write(\"one more line\\n\")\n",
    "f.seek(0)        # WITHOUT THIS LINE, YOU WILL NOT SEE ANY O/P on the next line as pointer was pointing to the end    \n",
    "print(f.read())  # Read till the end from the current line"
   ]
  },
  {
   "cell_type": "markdown",
   "metadata": {},
   "source": [
    "# Iterative Reading\n",
    "-  Using for..in..\n",
    "-  Using read line and while\n",
    "-  Using with and for"
   ]
  },
  {
   "cell_type": "code",
   "execution_count": 182,
   "metadata": {},
   "outputs": [
    {
     "name": "stdout",
     "output_type": "stream",
     "text": [
      "appending..\n",
      "\n",
      "Second line \n",
      "\n",
      "another append line\n",
      "\n",
      "one more line\n",
      "\n"
     ]
    }
   ],
   "source": [
    "f = open(\"test.txt\", \"r\") \n",
    "for line in f:\n",
    "    print(line)"
   ]
  },
  {
   "cell_type": "code",
   "execution_count": 183,
   "metadata": {},
   "outputs": [
    {
     "name": "stdout",
     "output_type": "stream",
     "text": [
      "appending..\n",
      "\n",
      "Second line \n",
      "\n",
      "another append line\n",
      "\n",
      "one more line\n",
      "\n"
     ]
    }
   ],
   "source": [
    "f = open(\"test.txt\", \"r\") \n",
    "line = f.readline()\n",
    "while(len(line) > 0):\n",
    "    print(line)\n",
    "    line = f.readline()"
   ]
  },
  {
   "cell_type": "code",
   "execution_count": 184,
   "metadata": {},
   "outputs": [
    {
     "name": "stdout",
     "output_type": "stream",
     "text": [
      "appending..\n",
      "\n",
      "Second line \n",
      "\n",
      "another append line\n",
      "\n",
      "one more line\n",
      "\n"
     ]
    }
   ],
   "source": [
    "with open('test.txt') as f:\n",
    "    for line in f:\n",
    "        print(line)"
   ]
  },
  {
   "cell_type": "markdown",
   "metadata": {},
   "source": [
    "## readlines()\n",
    "Returns the lines of file in a list"
   ]
  },
  {
   "cell_type": "code",
   "execution_count": 185,
   "metadata": {},
   "outputs": [
    {
     "name": "stdout",
     "output_type": "stream",
     "text": [
      "['appending..\\n', 'Second line \\n', 'another append line\\n', 'one more line\\n']\n"
     ]
    }
   ],
   "source": [
    "f = open(\"test.txt\", \"r\") \n",
    "list1 = f.readlines()\n",
    "print(list1)"
   ]
  },
  {
   "cell_type": "markdown",
   "metadata": {},
   "source": [
    "## rename and delete operations\n",
    "-  rename()\n",
    "-  remove()"
   ]
  },
  {
   "cell_type": "code",
   "execution_count": 186,
   "metadata": {},
   "outputs": [
    {
     "name": "stdout",
     "output_type": "stream",
     "text": [
      "appending..\n",
      "Second line \n",
      "another append line\n",
      "one more line\n",
      "\n",
      "file deleted\n"
     ]
    }
   ],
   "source": [
    "# import os module\n",
    "import os\n",
    "os.rename(\"test.txt\", \"test1.txt\")\n",
    "f = open(\"test1.txt\", \"r\") \n",
    "print(f.read())\n",
    "\n",
    "os.remove(\"test1.txt\")\n",
    "print(\"file deleted\")"
   ]
  },
  {
   "cell_type": "markdown",
   "metadata": {},
   "source": [
    "## check if file exist"
   ]
  },
  {
   "cell_type": "code",
   "execution_count": 187,
   "metadata": {},
   "outputs": [
    {
     "name": "stdout",
     "output_type": "stream",
     "text": [
      "False\n",
      "False\n"
     ]
    }
   ],
   "source": [
    "# 1. Using os module\n",
    "import os\n",
    "print( os.path.isfile(\"test1.txt\") )\n",
    "print( os.path.isfile(\"test.txt\") )\n",
    "\n"
   ]
  },
  {
   "cell_type": "markdown",
   "metadata": {},
   "source": [
    "# Directory"
   ]
  },
  {
   "cell_type": "code",
   "execution_count": 188,
   "metadata": {},
   "outputs": [
    {
     "name": "stdout",
     "output_type": "stream",
     "text": [
      "/home/cvsudheer/Learning/AppliedAICourse\n"
     ]
    }
   ],
   "source": [
    "import os\n",
    "print(os.getcwd())   # get Current Working Directory\n",
    "\n",
    "# pwd on a linux commnad line gives the same result"
   ]
  },
  {
   "cell_type": "code",
   "execution_count": 6,
   "metadata": {},
   "outputs": [
    {
     "name": "stdout",
     "output_type": "stream",
     "text": [
      "/home/cvsudheer/Learning/AppliedAICourse\n"
     ]
    }
   ],
   "source": [
    "import os\n",
    "\n",
    "# Change back to current files folder\n",
    "os.chdir(globals()['_dh'][0])\n",
    "\n",
    "print(os.getcwd()) "
   ]
  },
  {
   "cell_type": "code",
   "execution_count": 190,
   "metadata": {},
   "outputs": [
    {
     "name": "stdout",
     "output_type": "stream",
     "text": [
      "['File & Directory Management.ipynb', 'sampletext.txt', '.ipynb_checkpoints', 'Untitled.ipynb', 'sampletext1.txt', 'Functions.ipynb', 'Module & Package.ipynb', 'TestDir', '1.2.ipynb']\n",
      "/home/cvsudheer/Learning/AppliedAICourse/TestDir\n",
      "False\n"
     ]
    }
   ],
   "source": [
    "import os\n",
    "# Create dir\n",
    "os.mkdir(\"TestDir\")\n",
    "\n",
    "#List Dir\n",
    "print( os.listdir(os.getcwd()) )\n",
    "\n",
    "#Change dir\n",
    "os.chdir(\"TestDir\")\n",
    "print(os.getcwd()) \n",
    "\n",
    "#Remove it\n",
    "if(os.path.exists(\"TestDir\")):\n",
    "    os.rmdir(\"TestDir\")\n",
    "print(os.path.exists(\"TestDir\"))"
   ]
  },
  {
   "cell_type": "markdown",
   "metadata": {},
   "source": [
    "To remove a directory that has files, you have to use shutil.rmtree() method"
   ]
  },
  {
   "cell_type": "code",
   "execution_count": 191,
   "metadata": {},
   "outputs": [
    {
     "name": "stdout",
     "output_type": "stream",
     "text": [
      "/home/cvsudheer/Learning/AppliedAICourse/TestDir\n",
      "created file\n",
      "False\n"
     ]
    }
   ],
   "source": [
    "import shutil    #Shell Util\n",
    "import os\n",
    "print(os.getcwd())\n",
    "\n",
    "os.mkdir(\"TestDir\")\n",
    "os.chdir(\"TestDir\")\n",
    "f = open(\"t.txt\", \"w\")\n",
    "f.write(\"some text\")\n",
    "f.close()\n",
    "print (\"created file\")\n",
    "\n",
    "os.chdir(\"../\")     # ../ => parent directory\n",
    "#os.rmdir(\"TestDir\")    # OSError: [Errno 39] Directory not empty: 'TestDir'\n",
    "\n",
    "shutil.rmtree(\"TestDir\")\n",
    "\n",
    "print(os.path.exists(\"TestDir\"))\n",
    "\n",
    "\n"
   ]
  },
  {
   "cell_type": "markdown",
   "metadata": {},
   "source": [
    "## Get Current Files Directory\n",
    "__file__ will not work in jupyter notebook.<br/>\n"
   ]
  },
  {
   "cell_type": "code",
   "execution_count": 9,
   "metadata": {},
   "outputs": [],
   "source": [
    "import os\n",
    "# The below statemet didn't work\n",
    "#os.path.dirname(os.path.abspath(__file__))"
   ]
  },
  {
   "cell_type": "markdown",
   "metadata": {},
   "source": [
    "Use the following method to get the current directory of the file you are working on.\n"
   ]
  },
  {
   "cell_type": "code",
   "execution_count": null,
   "metadata": {},
   "outputs": [],
   "source": [
    "import os\n",
    "print(globals()['_dh'][0])\n",
    "os.chdir(globals()['_dh'][0])"
   ]
  },
  {
   "cell_type": "code",
   "execution_count": null,
   "metadata": {},
   "outputs": [],
   "source": []
  },
  {
   "cell_type": "code",
   "execution_count": null,
   "metadata": {},
   "outputs": [],
   "source": []
  }
 ],
 "metadata": {
  "kernelspec": {
   "display_name": "Python 3",
   "language": "python",
   "name": "python3"
  },
  "language_info": {
   "codemirror_mode": {
    "name": "ipython",
    "version": 3
   },
   "file_extension": ".py",
   "mimetype": "text/x-python",
   "name": "python",
   "nbconvert_exporter": "python",
   "pygments_lexer": "ipython3",
   "version": "3.7.1"
  }
 },
 "nbformat": 4,
 "nbformat_minor": 2
}
