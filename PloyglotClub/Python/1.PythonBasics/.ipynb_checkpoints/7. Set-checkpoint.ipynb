{
 "cells": [
  {
   "cell_type": "markdown",
   "metadata": {},
   "source": [
    "# Set - {}\n",
    "\n",
    "1. NO DUPLICATES : Are used to store unique values, ignores duplicate values\n",
    "2. Faster Access : Sets have complexity of O(1) for data access and hence more efficient\n",
    "3. IMMUTABILITY : Any immutable data type can be an element of a set: a number, a string, a tuple. Mutable (changeable) data types cannot be elements of the set.\n",
    "4. No INDEXING : Has \"unordered collection\" of items and hence can't be indexed\n"
   ]
  },
  {
   "cell_type": "markdown",
   "metadata": {},
   "source": [
    "## Create set"
   ]
  },
  {
   "cell_type": "code",
   "execution_count": 14,
   "metadata": {},
   "outputs": [
    {
     "name": "stdout",
     "output_type": "stream",
     "text": [
      "\n",
      "==>Create set\n",
      "{1, 2, 3}\n",
      "{'r', 'q', 'e', 't', 'y', 'w'}\n",
      "{1, 2, 3, 4}\n",
      "\n",
      "==>Doesn't support indexing.\n"
     ]
    },
    {
     "ename": "TypeError",
     "evalue": "'set' object is not subscriptable",
     "output_type": "error",
     "traceback": [
      "\u001b[0;31m---------------------------------------------------------------------------\u001b[0m",
      "\u001b[0;31mTypeError\u001b[0m                                 Traceback (most recent call last)",
      "\u001b[0;32m<ipython-input-14-2b65de8c6de8>\u001b[0m in \u001b[0;36m<module>\u001b[0;34m\u001b[0m\n\u001b[1;32m     13\u001b[0m \u001b[0mprint\u001b[0m\u001b[0;34m(\u001b[0m\u001b[0;34m\"\\n==>Doesn't support indexing.\"\u001b[0m\u001b[0;34m)\u001b[0m\u001b[0;34m\u001b[0m\u001b[0;34m\u001b[0m\u001b[0m\n\u001b[1;32m     14\u001b[0m \u001b[0;31m# print(set1[0])        //Error : Doesn't support indexing\u001b[0m\u001b[0;34m\u001b[0m\u001b[0;34m\u001b[0m\u001b[0;34m\u001b[0m\u001b[0m\n\u001b[0;32m---> 15\u001b[0;31m \u001b[0mprint\u001b[0m\u001b[0;34m(\u001b[0m\u001b[0mset1\u001b[0m\u001b[0;34m[\u001b[0m\u001b[0;36m1\u001b[0m\u001b[0;34m:\u001b[0m\u001b[0;34m]\u001b[0m\u001b[0;34m)\u001b[0m\u001b[0;34m\u001b[0m\u001b[0;34m\u001b[0m\u001b[0m\n\u001b[0m",
      "\u001b[0;31mTypeError\u001b[0m: 'set' object is not subscriptable"
     ]
    }
   ],
   "source": [
    "print(\"\\n==>Create set\")\n",
    "set1 = {1, 2, 3}\n",
    "print(set1)\n",
    "\n",
    "# Create using constructor\n",
    "set1 = set('qwerty')\n",
    "print(set1)\n",
    "\n",
    "# List to Set\n",
    "set1 = set([1,2,3,4])\n",
    "print(set1)\n",
    "\n",
    "print(\"\\n==>Doesn't support indexing OR Slicing.\")\n",
    "# print(set1[0])        //Error : Doesn't support indexing\n",
    "# print(set1[1:])"
   ]
  },
  {
   "cell_type": "markdown",
   "metadata": {},
   "source": [
    "## Add single and multiple items to Set"
   ]
  },
  {
   "cell_type": "code",
   "execution_count": 6,
   "metadata": {},
   "outputs": [
    {
     "name": "stdout",
     "output_type": "stream",
     "text": [
      "{1, 2, 3, 4}\n",
      "\n",
      "==>Add multiple elements to set {1, 2, 3, 4, 5, 6}\n"
     ]
    }
   ],
   "source": [
    "A = {1, 2, 3}\n",
    "A.add(4)\n",
    "print(A)\n",
    "\n",
    "A.update([4,5,6])\n",
    "print(\"\\n==>Add multiple elements to set\", A)"
   ]
  },
  {
   "cell_type": "markdown",
   "metadata": {},
   "source": [
    "## Remove item from Set : Discard Vs Remove Vs Pop Vs Clear\n",
    "1. Discard doesn't throw an exception, if the element doesnot exist.\n",
    "2. Pop removes a random element and returns the same\n",
    "3. Clear removes all items\n",
    "4. Remove() removes an item by value, no return value"
   ]
  },
  {
   "cell_type": "code",
   "execution_count": 9,
   "metadata": {},
   "outputs": [
    {
     "name": "stdout",
     "output_type": "stream",
     "text": [
      "After remove 3:  {1, 2, 4, 5}\n",
      "After remove 200:  {1, 2, 4, 5}\n",
      "After pop:  {2, 4, 5}\n",
      "After remove 5:  {2, 4}\n"
     ]
    }
   ],
   "source": [
    "A = {1, 2, 3,4,5}\n",
    "A.remove(3)  # Raises exception if item is not existing in SET\n",
    "print(\"After remove 3: \", A)\n",
    "\n",
    "A.discard(200)  # Raises NO exception if item is not existing in SET\n",
    "print(\"After remove 200: \", A)\n",
    "\n",
    "a1 = A.pop()\n",
    "print(\"After pop: \", A)\n",
    "\n",
    "A.remove(5)\n",
    "print(\"After remove 5: \", A)"
   ]
  },
  {
   "cell_type": "markdown",
   "metadata": {},
   "source": [
    "## Membership Operators for Set"
   ]
  },
  {
   "cell_type": "code",
   "execution_count": 12,
   "metadata": {},
   "outputs": [
    {
     "name": "stdout",
     "output_type": "stream",
     "text": [
      "2\n",
      "3\n",
      "5\n",
      "7\n",
      "11\n",
      "\n",
      "==>Membership : Check if an items exist\n",
      "True False\n"
     ]
    }
   ],
   "source": [
    "primes = {2, 3, 5, 7, 11}\n",
    "for num in primes:\n",
    "    print(num)\n",
    "\n",
    "print(\"\\n==>Membership : Check if an items exist\")\n",
    "print(2 in A, 4 not in A)"
   ]
  },
  {
   "cell_type": "markdown",
   "metadata": {},
   "source": [
    "## Set Operations\n",
    "1. Full mathematical set operations : https://snakify.org/en/lessons/sets/"
   ]
  },
  {
   "cell_type": "code",
   "execution_count": null,
   "metadata": {},
   "outputs": [],
   "source": [
    "\n",
    "print(\"\\n==>Set Operations\")\n",
    "set1 = {1,2,3,4,5}\n",
    "set2 = {3,4,5,6,7}\n",
    "set3 = {1,2,3}\n",
    "\n",
    "s = set1 | set2\n",
    "s = set1.union(set2)\n",
    "print(\"\\n==>Union set1,set2: \", s)\n",
    "\n",
    "s = set1 & set2\n",
    "s = set1.intersection(set2)\n",
    "print(\"\\n==>Intersetion set1,set2: \", s)\n",
    "\n",
    "s = set1 - set2\n",
    "s = set1.difference(set2)\n",
    "print(\"\\n==>Difference set1,set2: \", s)\n",
    "\n",
    "# (set1 Union set2) - (set1 intersection set2)\n",
    "s = set1 ^ set2\n",
    "s = set1.symmetric_difference(set2)\n",
    "print(\"\\n==>Symmetric Difference set1,set2: \", s)\n",
    "\n",
    "print(\"\\n==>IsSubset : set1,set3: \", set1.issubset(set3)) \n",
    "\n",
    "# Usage : Are used as Keys in dictionaries\n",
    "set4 = frozenset([1,2,3,4])\n",
    "print(\"\\n==>Frozenset : Immutableset\", set4) "
   ]
  },
  {
   "cell_type": "markdown",
   "metadata": {},
   "source": [
    "## Comparing Sets"
   ]
  },
  {
   "cell_type": "code",
   "execution_count": 13,
   "metadata": {},
   "outputs": [
    {
     "name": "stdout",
     "output_type": "stream",
     "text": [
      "\n",
      "==>Comparing Sets : Order of elements i nset doesn't matter\n",
      "True\n",
      "True\n"
     ]
    }
   ],
   "source": [
    "print(\"\\n==>Comparing Sets : Order of elements i nset doesn't matter\")\n",
    "A = {1, 2, 3}\n",
    "B = {3,2,1}\n",
    "C = {3,2,1,3}\n",
    "print(A == B)  #True , order doesn't matter\n",
    "print(A == C)  #True  , repitiations are removed"
   ]
  },
  {
   "cell_type": "code",
   "execution_count": null,
   "metadata": {},
   "outputs": [],
   "source": []
  },
  {
   "cell_type": "code",
   "execution_count": null,
   "metadata": {},
   "outputs": [],
   "source": []
  }
 ],
 "metadata": {
  "kernelspec": {
   "display_name": "Python 3",
   "language": "python",
   "name": "python3"
  },
  "language_info": {
   "codemirror_mode": {
    "name": "ipython",
    "version": 3
   },
   "file_extension": ".py",
   "mimetype": "text/x-python",
   "name": "python",
   "nbconvert_exporter": "python",
   "pygments_lexer": "ipython3",
   "version": "3.7.1"
  }
 },
 "nbformat": 4,
 "nbformat_minor": 2
}
