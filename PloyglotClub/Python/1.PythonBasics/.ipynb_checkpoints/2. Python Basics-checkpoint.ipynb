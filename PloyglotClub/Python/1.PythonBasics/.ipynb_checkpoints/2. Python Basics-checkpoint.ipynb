{
 "cells": [
  {
   "cell_type": "markdown",
   "metadata": {},
   "source": [
    "# Python Basics\n",
    "\n",
    "1. Python is case-senstitibe language\n",
    "Print(\"a\")  => Error : Print is undefined\n",
    "\n",
    "2. Variable name can't start with a number\n",
    "\n",
    "3. Variable name can't start with special char like @ or #\n",
    "\n",
    "4. Pything doesn't support Generics     \n"
   ]
  },
  {
   "cell_type": "markdown",
   "metadata": {},
   "source": [
    "## Python Variables\n"
   ]
  },
  {
   "cell_type": "code",
   "execution_count": 1,
   "metadata": {},
   "outputs": [
    {
     "name": "stdout",
     "output_type": "stream",
     "text": [
      "Let's talk about Zed A. Shaw.\n",
      "He's 74 inches tall.\n",
      "He's 180 pounds heavy.\n",
      "Actually that's not too heavy.\n",
      "He's got Blue eyes and Brown hair.\n",
      "His teeth are usually White depending on the coffee.\n"
     ]
    }
   ],
   "source": [
    "#Just declare the variable no need of type declaration\n",
    "\n",
    "my_name = 'Zed A. Shaw'\n",
    "my_age = 35 # not a lie\n",
    "my_height = 74 # inches\n",
    "my_weight = 180 # lbs\n",
    "my_eyes = 'Blue'\n",
    "my_teeth = 'White'\n",
    "my_hair = 'Brown'\n",
    "\n",
    "print(\"Let's talk about %s.\" % my_name)\n",
    "print(\"He's %d inches tall.\" % my_height)\n",
    "print(\"He's %d pounds heavy.\" % my_weight)\n",
    "print(\"Actually that's not too heavy.\")\n",
    "print(\"He's got %s eyes and %s hair.\" % (my_eyes, my_hair))\n",
    "print(\"His teeth are usually %s depending on the coffee.\" % my_teeth)"
   ]
  },
  {
   "cell_type": "markdown",
   "metadata": {},
   "source": [
    "## Print Easy and in-line"
   ]
  },
  {
   "cell_type": "code",
   "execution_count": 6,
   "metadata": {},
   "outputs": [
    {
     "name": "stdout",
     "output_type": "stream",
     "text": [
      "Print easy just the parts If I add age 35 and height 74\n"
     ]
    }
   ],
   "source": [
    "print(\"Print easy just the parts\", \"If I add age\", my_age, \"and height\", my_height)"
   ]
  },
  {
   "cell_type": "markdown",
   "metadata": {},
   "source": [
    "## Print with formatting using string.format() using Interpolation"
   ]
  },
  {
   "cell_type": "code",
   "execution_count": 2,
   "metadata": {},
   "outputs": [
    {
     "name": "stdout",
     "output_type": "stream",
     "text": [
      "The variables are 10, 20\n",
      "The variables are 35, 74\n"
     ]
    }
   ],
   "source": [
    "print(\"The variables are {0}, {1}\".format(10,20))\n",
    "print(\"The variables are {0}, {1}\".format(my_age,my_height))"
   ]
  },
  {
   "cell_type": "markdown",
   "metadata": {},
   "source": [
    "## Comments\n",
    "1. Anything after the # is ignored by python.\n",
    "2. Multi line comments enclosed with in <b>triple double quotes</b>"
   ]
  },
  {
   "cell_type": "code",
   "execution_count": 8,
   "metadata": {},
   "outputs": [
    {
     "data": {
      "text/plain": [
       "'Multi line Comment\\nLine1\\nLine2\\nLine3'"
      ]
     },
     "execution_count": 8,
     "metadata": {},
     "output_type": "execute_result"
    }
   ],
   "source": [
    "#Single line comment\n",
    "\"\"\"Multi line Comment\n",
    "Line1\n",
    "Line2\n",
    "Line3\"\"\""
   ]
  },
  {
   "cell_type": "markdown",
   "metadata": {},
   "source": [
    "## Variables\n",
    "1. Variable name can't start with a number\n",
    "\n",
    "2. Variable name cant start with special char like @ or #"
   ]
  },
  {
   "cell_type": "code",
   "execution_count": 9,
   "metadata": {},
   "outputs": [
    {
     "name": "stdout",
     "output_type": "stream",
     "text": [
      "100\n",
      "1000.0\n",
      "John\n"
     ]
    },
    {
     "data": {
      "text/plain": [
       "100"
      ]
     },
     "execution_count": 9,
     "metadata": {},
     "output_type": "execute_result"
    }
   ],
   "source": [
    "counter = 100          # An integer assignment\n",
    "miles   = 1000.0       # A floating point\n",
    "name    = \"John\"       # A string\n",
    "print(counter)\n",
    "print(miles)\n",
    "print(name)\n",
    "counter"
   ]
  },
  {
   "cell_type": "markdown",
   "metadata": {},
   "source": [
    "## Multipel Assignments"
   ]
  },
  {
   "cell_type": "code",
   "execution_count": 16,
   "metadata": {},
   "outputs": [
    {
     "name": "stdout",
     "output_type": "stream",
     "text": [
      "Multiple assignment to same value\n",
      "Multiple assignment of multiple variables\n",
      "1 2 john\n",
      "Multiple Assignments in a single line, separate with ;\n",
      "10 20 30\n"
     ]
    },
    {
     "data": {
      "text/plain": [
       "(10, 20, 30)"
      ]
     },
     "execution_count": 16,
     "metadata": {},
     "output_type": "execute_result"
    }
   ],
   "source": [
    "print(\"Multiple assignment to same value\")\n",
    "a = b = c = 1\n",
    "print(\"Multiple assignment of multiple variables\")\n",
    "a,b,c = 1,2,\"john\"\n",
    "print(a,b,c)\n",
    "\n",
    "\n",
    "print(\"Multiple Assignments in a single line, separate with ;\")\n",
    "a = 10; b = 20 ; c = 30\n",
    "print(a,b,c)\n",
    "\n",
    "a,b,c\n"
   ]
  },
  {
   "cell_type": "markdown",
   "metadata": {},
   "source": [
    "## String"
   ]
  },
  {
   "cell_type": "code",
   "execution_count": 29,
   "metadata": {},
   "outputs": [
    {
     "name": "stdout",
     "output_type": "stream",
     "text": [
      "Hello World!\n",
      "H\n",
      "llo\n",
      "llo World!\n",
      "d\n",
      "Hello World!Hello World!\n",
      "Hello World!TEST\n",
      "Multiline string :  Mutil line\n",
      "        comment\n",
      "==> Print last char :  t\n",
      "==> Slice from 5 :   line\n",
      "        comment\n"
     ]
    }
   ],
   "source": [
    "#String in python is an array of Unicode characters\n",
    "str = 'Hello World!'\n",
    "\n",
    "print (str)          # Prints complete string\n",
    "print (str[0])       # Prints first character of the string\n",
    "print (str[2:5])     # SLICING : Prints characters starting from 3rd to 5th, 0 based\n",
    "print (str[2:])      # Prints string starting from 3rd character\n",
    "print (str[-1])      #Print last char\n",
    "\n",
    "print (str * 2)      # Prints string two times\n",
    "print (str + \"TEST\") # Prints concatenated string\n",
    "\n",
    "#Multiline strings\n",
    "ml = \"\"\"Mutil line\n",
    "        string\"\"\"\n",
    "print(\"Multiline string : \", ml)\n",
    "print(\"Print last char : \", ml[-1])\n",
    "print(\"Slice from 5 : \", ml[5:])\n",
    "\n"
   ]
  },
  {
   "cell_type": "markdown",
   "metadata": {},
   "source": [
    "## Numbers"
   ]
  },
  {
   "cell_type": "code",
   "execution_count": null,
   "metadata": {},
   "outputs": [],
   "source": [
    "var1 = 1\n",
    "var2 = 10.0\n",
    "print(var1)\n",
    "print(var2)"
   ]
  },
  {
   "cell_type": "markdown",
   "metadata": {},
   "source": [
    "## Input"
   ]
  },
  {
   "cell_type": "code",
   "execution_count": 6,
   "metadata": {},
   "outputs": [
    {
     "name": "stdout",
     "output_type": "stream",
     "text": [
      "Enter a number12\n",
      "12 <class 'str'>\n",
      "Square :  144\n"
     ]
    }
   ],
   "source": [
    "num = input(\"Enter a number\")   # The value received of type string\n",
    "print(num, type(num))\n",
    "print(\"Square : \" , int(num) ** 2)"
   ]
  },
  {
   "cell_type": "markdown",
   "metadata": {},
   "source": [
    "## type() & isinstance() functions"
   ]
  },
  {
   "cell_type": "code",
   "execution_count": 24,
   "metadata": {},
   "outputs": [
    {
     "name": "stdout",
     "output_type": "stream",
     "text": [
      "5  is of type <class 'int'>\n",
      "True\n",
      "(5+2j)  is of type <class 'complex'>\n",
      "True\n"
     ]
    }
   ],
   "source": [
    "a = 5\n",
    "b = 5\n",
    "#Every thing is an object in python\"\n",
    "#a=b=5: both a & b are pointing to the same object.\"\n",
    "print(a ,\" is of type\" , type(a))\n",
    "print(isinstance(b, int))\n",
    "\n",
    "#Change b type\n",
    "b = a+2j  \n",
    "print(b ,\" is of type\" , type(b))\n",
    "#isinstance of b a Complex type?\n",
    "print(isinstance(b, complex))\n",
    "\n"
   ]
  },
  {
   "cell_type": "code",
   "execution_count": null,
   "metadata": {},
   "outputs": [],
   "source": []
  },
  {
   "cell_type": "code",
   "execution_count": null,
   "metadata": {},
   "outputs": [],
   "source": []
  },
  {
   "cell_type": "code",
   "execution_count": null,
   "metadata": {},
   "outputs": [],
   "source": []
  },
  {
   "cell_type": "code",
   "execution_count": null,
   "metadata": {},
   "outputs": [],
   "source": []
  },
  {
   "cell_type": "code",
   "execution_count": null,
   "metadata": {},
   "outputs": [],
   "source": []
  },
  {
   "cell_type": "code",
   "execution_count": null,
   "metadata": {},
   "outputs": [],
   "source": []
  },
  {
   "cell_type": "code",
   "execution_count": null,
   "metadata": {},
   "outputs": [],
   "source": []
  },
  {
   "cell_type": "code",
   "execution_count": null,
   "metadata": {},
   "outputs": [],
   "source": []
  }
 ],
 "metadata": {
  "kernelspec": {
   "display_name": "Python 3",
   "language": "python",
   "name": "python3"
  },
  "language_info": {
   "codemirror_mode": {
    "name": "ipython",
    "version": 3
   },
   "file_extension": ".py",
   "mimetype": "text/x-python",
   "name": "python",
   "nbconvert_exporter": "python",
   "pygments_lexer": "ipython3",
   "version": "3.6.5"
  }
 },
 "nbformat": 4,
 "nbformat_minor": 2
}
