{
 "cells": [
  {
   "cell_type": "markdown",
   "metadata": {},
   "source": [
    "## IF.. ELSE"
   ]
  },
  {
   "cell_type": "code",
   "execution_count": 1,
   "metadata": {},
   "outputs": [
    {
     "name": "stdout",
     "output_type": "stream",
     "text": [
      "num is <= 10\n"
     ]
    }
   ],
   "source": [
    "num = 10\n",
    "if(num > 10):       #NOTE the : required\n",
    "    print(\"num > 10 \")\n",
    "else:\n",
    "    print (\"num is <= 10\")"
   ]
  },
  {
   "cell_type": "code",
   "execution_count": 2,
   "metadata": {},
   "outputs": [
    {
     "name": "stdout",
     "output_type": "stream",
     "text": [
      "-1 is true\n"
     ]
    }
   ],
   "source": [
    "# 0, FALSE and None are : false, everythign else true\n",
    "if(None):\n",
    "    print(\"This will not print\")\n",
    "if(-1):\n",
    "    print(\"-1 is true\")"
   ]
  },
  {
   "cell_type": "markdown",
   "metadata": {},
   "source": [
    "## IF..ELIF..ELSE"
   ]
  },
  {
   "cell_type": "code",
   "execution_count": 3,
   "metadata": {},
   "outputs": [
    {
     "name": "stdout",
     "output_type": "stream",
     "text": [
      "num = 10\n"
     ]
    }
   ],
   "source": [
    "if (num > 10):\n",
    "    print(\"num > 10\")\n",
    "elif (num < 10):\n",
    "    print(\"num < 10\")\n",
    "else:\n",
    "    print(\"num = 10\")"
   ]
  },
  {
   "cell_type": "markdown",
   "metadata": {},
   "source": [
    "## WHILE & WHILE..ELSE"
   ]
  },
  {
   "cell_type": "code",
   "execution_count": 5,
   "metadata": {},
   "outputs": [
    {
     "name": "stdout",
     "output_type": "stream",
     "text": [
      "Sum : 10\n",
      "This is executed after while loop is completed\n",
      "110\n"
     ]
    }
   ],
   "source": [
    "lst = [1,2,3,4]\n",
    "sum = 0\n",
    "index = 0\n",
    "while(index < len(lst)):\n",
    "    sum += lst[index]\n",
    "    index += 1\n",
    "print(\"Sum :\", sum)\n",
    "\n",
    "sum = 0\n",
    "index = 0\n",
    "while(index < len(lst)):\n",
    "    sum += lst[index]\n",
    "    index += 1\n",
    "else:\n",
    "    print(\"This is executed after while loop is completed\")\n",
    "    sum += 100\n",
    "    print(sum)"
   ]
  },
  {
   "cell_type": "markdown",
   "metadata": {},
   "source": [
    "## Range()\n",
    "1. Iterates from 0 to n-1, if start is not mentioned. If start is mentioned, it starts from that number. : range(11,15,3) => 11,14\n",
    "2. range(x) => x has to be an integer."
   ]
  },
  {
   "cell_type": "code",
   "execution_count": 10,
   "metadata": {},
   "outputs": [
    {
     "name": "stdout",
     "output_type": "stream",
     "text": [
      "1\n",
      "3\n",
      "5\n",
      "7\n",
      "9\n"
     ]
    }
   ],
   "source": [
    "rng = range(1,10,2)\n",
    "for i in rng:\n",
    "    print (i)"
   ]
  },
  {
   "cell_type": "markdown",
   "metadata": {},
   "source": [
    "## For & FOR..ELSE with break & continue"
   ]
  },
  {
   "cell_type": "code",
   "execution_count": 11,
   "metadata": {},
   "outputs": [
    {
     "name": "stdout",
     "output_type": "stream",
     "text": [
      "1\n",
      "2\n",
      "3\n",
      "4\n",
      "5\n",
      "5\n",
      "4\n",
      "3\n",
      "2\n",
      "1\n"
     ]
    }
   ],
   "source": [
    "# Step from 1 to 5, step 1\n",
    "for num in range(1,6,1):\n",
    "    print(num)\n",
    "\n",
    "# Step from 5 to 1, step 1\n",
    "for num in range(5,0,-1):\n",
    "    print(num)"
   ]
  },
  {
   "cell_type": "code",
   "execution_count": 13,
   "metadata": {},
   "outputs": [
    {
     "name": "stdout",
     "output_type": "stream",
     "text": [
      "1\n",
      "2\n",
      "3\n",
      "totally out of for loop\n",
      "using continue\n",
      "1\n",
      "2\n",
      "4\n",
      "else for\n",
      "totally out of for loop\n"
     ]
    }
   ],
   "source": [
    "lst = [1,2,3,4]\n",
    "for item in lst:\n",
    "    if(item > 3):\n",
    "        break\n",
    "    print (item)\n",
    "else:\n",
    "    print(\"out of break\")\n",
    "print (\"totally out of for loop\")\n",
    "\n",
    "print(\"using continue\")\n",
    "for item in lst:\n",
    "    if(item == 3):\n",
    "        continue\n",
    "    print (item)\n",
    "else:\n",
    "    print(\"else for\")\n",
    "print (\"totally out of for loop\")"
   ]
  },
  {
   "cell_type": "code",
   "execution_count": null,
   "metadata": {},
   "outputs": [],
   "source": []
  }
 ],
 "metadata": {
  "kernelspec": {
   "display_name": "Python 3",
   "language": "python",
   "name": "python3"
  },
  "language_info": {
   "codemirror_mode": {
    "name": "ipython",
    "version": 3
   },
   "file_extension": ".py",
   "mimetype": "text/x-python",
   "name": "python",
   "nbconvert_exporter": "python",
   "pygments_lexer": "ipython3",
   "version": "3.7.1"
  }
 },
 "nbformat": 4,
 "nbformat_minor": 2
}
