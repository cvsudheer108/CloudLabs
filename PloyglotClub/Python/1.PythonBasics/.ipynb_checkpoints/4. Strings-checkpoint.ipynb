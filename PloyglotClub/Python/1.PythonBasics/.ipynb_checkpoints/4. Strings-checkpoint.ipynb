{
 "cells": [
  {
   "cell_type": "markdown",
   "metadata": {},
   "source": [
    "# Strings\n",
    "1. Strings are by default Unicode characters in Python\n",
    "2. STRINGS ARE IMMUTABLE\n",
    "3. Create string : single or double quote"
   ]
  },
  {
   "cell_type": "code",
   "execution_count": 1,
   "metadata": {},
   "outputs": [],
   "source": [
    "str = \"String\"\n",
    "str = 'String'"
   ]
  },
  {
   "cell_type": "code",
   "execution_count": 68,
   "metadata": {},
   "outputs": [
    {
     "name": "stdout",
     "output_type": "stream",
     "text": [
      "Multi line string :  AddressLin1\n",
      "        AddressLn2\n"
     ]
    }
   ],
   "source": [
    "# Triplr quotes for multi line string\n",
    "mlStr = \"\"\"AddressLin1\n",
    "        AddressLn2\"\"\"\n",
    "print(\"Multi line string : \", mlStr)"
   ]
  },
  {
   "cell_type": "markdown",
   "metadata": {},
   "source": [
    "# Id() to check storage address"
   ]
  },
  {
   "cell_type": "code",
   "execution_count": 69,
   "metadata": {},
   "outputs": [
    {
     "name": "stdout",
     "output_type": "stream",
     "text": [
      "140714813902664 140714813902664 140714813902440\n"
     ]
    }
   ],
   "source": [
    "str = \"Hello\"\n",
    "str1 = \"Hello\"\n",
    "str2 = \"Hello2\"\n",
    "print(id(str), id(str1), id(str2))   ## See the first and second points to the location as their contents are same"
   ]
  },
  {
   "cell_type": "markdown",
   "metadata": {},
   "source": [
    "## String Indexing & Slicing (::)"
   ]
  },
  {
   "cell_type": "code",
   "execution_count": 66,
   "metadata": {},
   "outputs": [
    {
     "name": "stdout",
     "output_type": "stream",
     "text": [
      "H\n",
      "llo\n",
      "llo\n",
      "<br1/>\n",
      "o\n",
      "lo\n",
      "Hel\n",
      "Hell\n",
      "<br2/>\n",
      "He\n",
      "llo\n",
      "<br3/>\n",
      "Hlo\n",
      "Hello\n",
      "olleH\n"
     ]
    }
   ],
   "source": [
    "#Access Characters in a string, if index is out of range, it will get \"index out of range error\"\n",
    "str = 'Hello'\n",
    "\n",
    "print(str[0])       # Prints first character of the string\n",
    "print(str[2:5])     # Prints characters starting from 3rd to 5th not including,  (2,3,4)\n",
    "print(str[2:])      # Prints string starting from 3rd character\n",
    "print(\"<br1/>\")    \n",
    "\n",
    "# Python supports using negative numbers to index into a string: -1 means the last char, -2 is the next to last, and so on\n",
    "print(str[-1])      # Print last character using negative indexing : Count Starting from the End\n",
    "print(str[-2:])   # Print second from last char till the end : d!\n",
    "print(str[:-2])   #Print start of the string till (second from last char)\n",
    "print(str[:-1])   #Print start of the string till (second from last char)\n",
    "print(\"<br2/>\")\n",
    "\n",
    "# If the first slice number is omitted, it just uses the start of the string, \n",
    "# and likewise if the second slice number is omitted, the slice runs through the end of the string.\n",
    "str = 'Hello'\n",
    "print(str[:2])  ## 'He', omit first number uses start of stringprint()\n",
    "print(str[2:])  ## 'llo', omit second number uses end of string\n",
    "\n",
    "print(\"<br3/>\")\n",
    "## Looping through the string through Step\n",
    "print(str[::2])  ##[start:end:step] : Step by 2 starting from default 0\n",
    "print(str[::1])  ##[start:end:step] : Step by -1 (reverse) starting from 0\n",
    "print(str[::-1])  ##[start:end:step] : Step by -1 (reverse) starting from default end"
   ]
  },
  {
   "cell_type": "markdown",
   "metadata": {},
   "source": [
    "## Iteration"
   ]
  },
  {
   "cell_type": "code",
   "execution_count": null,
   "metadata": {},
   "outputs": [],
   "source": [
    "# Iterating through string : String is an array of chars\n",
    "for c in str:\n",
    "    print(c)"
   ]
  },
  {
   "cell_type": "markdown",
   "metadata": {},
   "source": [
    "## Membership operator"
   ]
  },
  {
   "cell_type": "code",
   "execution_count": 3,
   "metadata": {},
   "outputs": [
    {
     "name": "stdout",
     "output_type": "stream",
     "text": [
      "String Membership :  False True\n"
     ]
    }
   ],
   "source": [
    "# Membership for a single or multipel charcters\n",
    "print(\"String Membership : \", \"l\" in str, \"llo\" not in str)"
   ]
  },
  {
   "cell_type": "markdown",
   "metadata": {},
   "source": [
    "## Upper/Lower "
   ]
  },
  {
   "cell_type": "code",
   "execution_count": 9,
   "metadata": {},
   "outputs": [
    {
     "name": "stdout",
     "output_type": "stream",
     "text": [
      "hello world\n",
      "HELLO WORLD\n"
     ]
    }
   ],
   "source": [
    "# String methods\n",
    "print(str.lower())\n",
    "print(str.upper())\n"
   ]
  },
  {
   "cell_type": "markdown",
   "metadata": {},
   "source": [
    "### Split"
   ]
  },
  {
   "cell_type": "code",
   "execution_count": 2,
   "metadata": {},
   "outputs": [
    {
     "name": "stdout",
     "output_type": "stream",
     "text": [
      "['Hello', 'World']\n",
      "['Hel', ' World']\n",
      "['Hell', ' W', 'rld']\n"
     ]
    }
   ],
   "source": [
    "str = \"Hello World\"\n",
    "# Default split by white space and tab\n",
    "print(str.split())\n",
    "\n",
    "print(str.split(\"lo\"))\n",
    "print(str.split(\"o\"))"
   ]
  },
  {
   "cell_type": "markdown",
   "metadata": {},
   "source": [
    "### Join - Join a list with given character"
   ]
  },
  {
   "cell_type": "code",
   "execution_count": 1,
   "metadata": {},
   "outputs": [
    {
     "name": "stdout",
     "output_type": "stream",
     "text": [
      "Join:  Twenty-Two-Hundred\n"
     ]
    }
   ],
   "source": [
    "#join all parts of a string with a given character\n",
    "str2 = \"-\".join([\"Twenty\", \"Two\", \"Hundred\"])\n",
    "print(\"Join: \", str2)"
   ]
  },
  {
   "cell_type": "markdown",
   "metadata": {},
   "source": [
    "### find() - check for substring & replce()"
   ]
  },
  {
   "cell_type": "code",
   "execution_count": 6,
   "metadata": {},
   "outputs": [
    {
     "name": "stdout",
     "output_type": "stream",
     "text": [
      "6\n",
      "2\n",
      "-1\n",
      "Hello old\n"
     ]
    }
   ],
   "source": [
    "str = \"Hello World\"\n",
    "print(str.find(\"Wor\"))\n",
    "print(str.find(\"l\"))  # First occurence\n",
    "print(str.find(\"Word\"))  ## -1, not found\n",
    "\n",
    "\n",
    "print(str.replace(\"Wor\", \"o\"))"
   ]
  },
  {
   "cell_type": "markdown",
   "metadata": {},
   "source": [
    "# String Compare (== and is)"
   ]
  },
  {
   "cell_type": "code",
   "execution_count": 74,
   "metadata": {},
   "outputs": [
    {
     "name": "stdout",
     "output_type": "stream",
     "text": [
      "comparing Berlin with Lausanne: False\n",
      "comparing Paris with Lausanne: False\n",
      "comparing Lausanne with Lausanne: True\n"
     ]
    }
   ],
   "source": [
    "# == compares two variables based on their actual value. \n",
    "# In contrast, the is operator compares two variables based on the object id\n",
    "listOfPlaces = [\"Berlin\", \"Paris\", \"Lausanne\"]\n",
    "currentCity = \"Lausanne\"\n",
    "\n",
    "for place in listOfPlaces:\n",
    "    print (\"comparing %s with %s: %s\" % (place, currentCity, place == currentCity))\n",
    "    \n",
    "#More comparison : >, <\n",
    "# Keep in mind the order is case-sensitive. As an example for the Latin alphabet, \"Bus\" comes before \"bus\". \n",
    "listOfPlaces = [\"Berlin\", \"Paris\", \"Lausanne\"]\n",
    "currentCity = \"Lausanne\"\n",
    "\n",
    "for place in listOfPlaces:\n",
    "    if place < currentCity:\n",
    "            print (\"%s comes before %s\" % (place, currentCity))\n",
    "    elif place > currentCity:\n",
    "            print (\"%s comes after %s\" % (place, currentCity))\n",
    "    else:\n",
    "            print (\"%s is similar to %s\" % (place, currentCity))\n"
   ]
  },
  {
   "cell_type": "code",
   "execution_count": 75,
   "metadata": {},
   "outputs": [
    {
     "name": "stdout",
     "output_type": "stream",
     "text": [
      "93872578978976 93872578978976\n"
     ]
    }
   ],
   "source": [
    "#Same with other types (value) too\n",
    "i = 10\n",
    "j = 10\n",
    "print (id(i), id(j))   # Both points to the same location\n"
   ]
  },
  {
   "cell_type": "markdown",
   "metadata": {},
   "source": [
    "# Search using RegEx"
   ]
  },
  {
   "cell_type": "code",
   "execution_count": null,
   "metadata": {},
   "outputs": [],
   "source": [
    "# import the additional module\n",
    "import re\n",
    "\n",
    "# define list of places\n",
    "listOfPlaces = [\"Bayswater\", \"Table Bay\", \"Bejing\", \"Bombay\"]\n",
    "\n",
    "# define search string\n",
    "pattern = re.compile(\"[Bb]ay\")\n",
    "\n",
    "for place in listOfPlaces:\n",
    "    if pattern.search(place):\n",
    "        print (\"%s matches the search pattern\" % place)"
   ]
  },
  {
   "cell_type": "markdown",
   "metadata": {},
   "source": [
    "# Case Insensitive Comparison"
   ]
  },
  {
   "cell_type": "code",
   "execution_count": null,
   "metadata": {},
   "outputs": [],
   "source": [
    "#use loser() upper() conversion before comparing"
   ]
  },
  {
   "cell_type": "markdown",
   "metadata": {},
   "source": [
    "# Multiline and List Comparison   (difflib)"
   ]
  },
  {
   "cell_type": "code",
   "execution_count": 76,
   "metadata": {},
   "outputs": [
    {
     "name": "stdout",
     "output_type": "stream",
     "text": [
      "  About the IIS\n",
      "  \n",
      "- IIS 8.5 has several improvements related\n",
      "?  ^^^^^^\n",
      "\n",
      "+ It has several improvements related\n",
      "?  ^\n",
      "\n",
      "- to performance in large-scale scenarios, such\n",
      "?                                        ^^^^^^\n",
      "\n",
      "+ to performance in large-scale scenarios.\n",
      "?                                        ^\n",
      "\n",
      "- as those used by commercial hosting providers and Microsoft's\n",
      "- own cloud offerings.\n"
     ]
    }
   ],
   "source": [
    "# import the additional module\n",
    "import difflib\n",
    " \n",
    "# define original text\n",
    "# taken from: https://en.wikipedia.org/wiki/Internet_Information_Services\n",
    "original = [\"About the IIS\", \"\", \"IIS 8.5 has several improvements related\", \"to performance in large-scale scenarios, such\", \"as those used by commercial hosting providers and Microsoft's\", \"own cloud offerings.\"]\n",
    "\n",
    "# define modified text\n",
    "edited = [\"About the IIS\", \"\", \"It has several improvements related\", \"to performance in large-scale scenarios.\"]\n",
    "\n",
    "# initiate the Differ object\n",
    "d = difflib.Differ()\n",
    " \n",
    "# calculate the difference between the two texts\n",
    "diff = d.compare(original, edited)\n",
    " \n",
    "# output the result\n",
    "print ('\\n'.join(diff))"
   ]
  },
  {
   "cell_type": "code",
   "execution_count": null,
   "metadata": {},
   "outputs": [],
   "source": []
  },
  {
   "cell_type": "markdown",
   "metadata": {},
   "source": [
    "# Samples"
   ]
  },
  {
   "cell_type": "markdown",
   "metadata": {},
   "source": [
    "### Check Palindrome"
   ]
  },
  {
   "cell_type": "code",
   "execution_count": 73,
   "metadata": {},
   "outputs": [
    {
     "name": "stdout",
     "output_type": "stream",
     "text": [
      "Is Palindome:  True\n",
      "malayalam malayalam\n",
      "True\n",
      "True\n"
     ]
    }
   ],
   "source": [
    "#Check if string is a Palindrome\n",
    "pal = \"malayalam\"\n",
    "# Donot compare equality using : pal.lower() == reversed(pal) ,as it checks only if the references are equal or not, not the contents\n",
    "print(\"Is Palindome: \", list(pal.lower()) == list(reversed(pal.lower())) )\n",
    "\n",
    "# OR\n",
    "\n",
    "str2 = pal.lower()\n",
    "str3 = pal[::-1]  #Reversed string\n",
    "print(str2, str3)\n",
    "print(str2 == str3)\n",
    "print(pal.lower() == pal[::-1])\n",
    "\n"
   ]
  },
  {
   "cell_type": "code",
   "execution_count": null,
   "metadata": {},
   "outputs": [],
   "source": []
  },
  {
   "cell_type": "code",
   "execution_count": null,
   "metadata": {},
   "outputs": [],
   "source": []
  },
  {
   "cell_type": "code",
   "execution_count": null,
   "metadata": {},
   "outputs": [],
   "source": []
  },
  {
   "cell_type": "code",
   "execution_count": null,
   "metadata": {},
   "outputs": [],
   "source": []
  }
 ],
 "metadata": {
  "kernelspec": {
   "display_name": "Python 3",
   "language": "python",
   "name": "python3"
  },
  "language_info": {
   "codemirror_mode": {
    "name": "ipython",
    "version": 3
   },
   "file_extension": ".py",
   "mimetype": "text/x-python",
   "name": "python",
   "nbconvert_exporter": "python",
   "pygments_lexer": "ipython3",
   "version": "3.6.5"
  }
 },
 "nbformat": 4,
 "nbformat_minor": 2
}
