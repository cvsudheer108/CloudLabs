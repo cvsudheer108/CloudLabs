{
 "cells": [
  {
   "cell_type": "markdown",
   "metadata": {},
   "source": [
    "# Dictionary\n",
    "1. Are associative arrays or hashes..\n",
    "2. A dictionary key can be almost any Python type, but are usually numbers or strings, also can have Mixed key types\n",
    "3. Values, on the other hand, can be any arbitrary Python object.\n",
    "4. No Indexing : Has \"unordered collection\" of items and hence can't be indexed"
   ]
  },
  {
   "cell_type": "markdown",
   "metadata": {},
   "source": [
    "## Create Dictionary\n"
   ]
  },
  {
   "cell_type": "code",
   "execution_count": 22,
   "metadata": {},
   "outputs": [
    {
     "name": "stdout",
     "output_type": "stream",
     "text": [
      "{'name': 'john', 'code': 6734, 'dept': 'sales'}\n",
      "\n",
      "==>Dic from tuple :  {1: 2, 3: 'three'}\n",
      "Crated dictionary using fromKeys : {'English': 0, 'Maths': 0}\n"
     ]
    }
   ],
   "source": [
    "#Intializing \n",
    "tinydict = {'name': 'john','code':6734, 'dept': 'sales'}\n",
    "print(tinydict)\n",
    "\n",
    "# Using Constrcutor from a tuple\n",
    "dic = dict([(1,2),(3,\"three\")])\n",
    "print(\"\\n==>Dic from tuple : \", dic)\n",
    "\n",
    "# Create a dictionary for a set of keys with some default values\n",
    "dict3 = {}.fromkeys(['English', 'Maths'],0)\n",
    "print(\"Crated dictionary using fromKeys :\" , dict3)"
   ]
  },
  {
   "cell_type": "markdown",
   "metadata": {},
   "source": [
    "## Add , Edit, Update Items to Dictionary"
   ]
  },
  {
   "cell_type": "code",
   "execution_count": 15,
   "metadata": {},
   "outputs": [
    {
     "name": "stdout",
     "output_type": "stream",
     "text": [
      "One\n",
      "None\n",
      "{'11': 'One', 2: 'Two', '33': 'three'}\n",
      "{'11': 'One', 2: 'Two', '33': 'Four'}\n",
      "{'11': 'One', 2: 'Two', '33': 'Four', 'ten': 10, 'name': 'kumar'}\n"
     ]
    }
   ],
   "source": [
    "dict1 = {\"11\": \"One\", 2 : \"Two\"}  \n",
    "# Get\n",
    "print(dict1[\"11\"])\n",
    "# print(dict1[\"22\"])  # Indexing throws exception if not present\n",
    "\n",
    "# Get using get() : Returns None if not present\n",
    "print(dict1.get(22))\n",
    "\n",
    "\n",
    "# Add\n",
    "dict1[\"33\"] = \"three\"  # Adding a new item using a new key\n",
    "print(dict1)\n",
    "\n",
    "#Edit\n",
    "dict1[\"33\"] = \"Four\"\n",
    "print(dict1)\n",
    "\n",
    "#Update : Adding Mutiple items at once\n",
    "dict1.update({\"ten\" : 10, \"name\" : \"kumar\"})\n",
    "print(dict1)\n"
   ]
  },
  {
   "cell_type": "markdown",
   "metadata": {},
   "source": [
    "## Remove an item\n",
    "1. pop & del  (Both will throw Key Error  if the key is not existing) and hence need checking\n",
    "2. Remove one item from the dictionary randomly"
   ]
  },
  {
   "cell_type": "code",
   "execution_count": 19,
   "metadata": {},
   "outputs": [
    {
     "name": "stdout",
     "output_type": "stream",
     "text": [
      "Removed value : One\n"
     ]
    }
   ],
   "source": [
    "dict1 = {\"11\": \"One\", 2 : \"Two\"} \n",
    "if (dict1.get(\"11\") != None):\n",
    "    print(\"Removed value :\", dict1.pop(\"11\"))"
   ]
  },
  {
   "cell_type": "markdown",
   "metadata": {},
   "source": [
    "## Copy and compare"
   ]
  },
  {
   "cell_type": "code",
   "execution_count": 21,
   "metadata": {},
   "outputs": [
    {
     "name": "stdout",
     "output_type": "stream",
     "text": [
      "Cooy dict2: {'11': 'One', 2: 'Two'}\n",
      "Compare copy dict : dict1 VS dict2 : True\n",
      "Compare copy dict : dict1 VS dict2 after dict2 modification: False\n"
     ]
    }
   ],
   "source": [
    "dict1 = {\"11\": \"One\", 2 : \"Two\"} \n",
    "dict2 = dict1.copy()\n",
    "print(\"Cooy dict2:\", dict2)\n",
    "print(\"Compare copy dict : dict1 VS dict2 :\", dict1 == dict2)\n",
    "\n",
    "dict2[2] = \"TwoTwo\"\n",
    "print(\"Compare copy dict : dict1 VS dict2 after dict2 modification:\", dict1 == dict2)"
   ]
  },
  {
   "cell_type": "markdown",
   "metadata": {},
   "source": [
    "## Iteration"
   ]
  },
  {
   "cell_type": "code",
   "execution_count": null,
   "metadata": {},
   "outputs": [],
   "source": [
    "dict1 = {\"11\": \"One\", 2 : \"Two\"} \n",
    "for key, value in dict1.items():\n",
    "    print(\"Key:\" + str(key) + \"Value:\" + str(value))"
   ]
  },
  {
   "cell_type": "markdown",
   "metadata": {},
   "source": [
    "## Comprehension"
   ]
  },
  {
   "cell_type": "code",
   "execution_count": 23,
   "metadata": {},
   "outputs": [
    {
     "name": "stdout",
     "output_type": "stream",
     "text": [
      "Dict from COmprehension :  {2: 'Two', 3: 'Three'}\n"
     ]
    }
   ],
   "source": [
    "dict4 = {1:\"One\", 2:\"Two\", 3:\"Three\"}\n",
    "dict5 = {k:v for k,v in dict4.items() if k > 1}\n",
    "print(\"Dict from COmprehension : \", dict5)"
   ]
  },
  {
   "cell_type": "code",
   "execution_count": null,
   "metadata": {},
   "outputs": [],
   "source": []
  },
  {
   "cell_type": "code",
   "execution_count": null,
   "metadata": {},
   "outputs": [],
   "source": []
  },
  {
   "cell_type": "code",
   "execution_count": null,
   "metadata": {},
   "outputs": [],
   "source": []
  },
  {
   "cell_type": "code",
   "execution_count": null,
   "metadata": {},
   "outputs": [],
   "source": []
  },
  {
   "cell_type": "code",
   "execution_count": null,
   "metadata": {},
   "outputs": [],
   "source": []
  },
  {
   "cell_type": "code",
   "execution_count": null,
   "metadata": {},
   "outputs": [],
   "source": []
  },
  {
   "cell_type": "code",
   "execution_count": null,
   "metadata": {},
   "outputs": [],
   "source": []
  }
 ],
 "metadata": {
  "kernelspec": {
   "display_name": "Python 3",
   "language": "python",
   "name": "python3"
  },
  "language_info": {
   "codemirror_mode": {
    "name": "ipython",
    "version": 3
   },
   "file_extension": ".py",
   "mimetype": "text/x-python",
   "name": "python",
   "nbconvert_exporter": "python",
   "pygments_lexer": "ipython3",
   "version": "3.7.1"
  }
 },
 "nbformat": 4,
 "nbformat_minor": 2
}
