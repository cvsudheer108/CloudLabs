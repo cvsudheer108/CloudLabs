{
 "cells": [
  {
   "cell_type": "markdown",
   "metadata": {},
   "source": [
    "# Operators"
   ]
  },
  {
   "cell_type": "code",
   "execution_count": 1,
   "metadata": {},
   "outputs": [
    {
     "name": "stdout",
     "output_type": "stream",
     "text": [
      "===>Division and Floor division\n",
      "7.5\n",
      "7\n",
      "-8\n",
      "testtesttest\n"
     ]
    }
   ],
   "source": [
    "print(\"===>Division and Floor division\")\n",
    "print(15/2)  #7.5\n",
    "print(15//2)  #7.5 floor = 7\n",
    "print(-15//2) #-7.5 floor = -8 ( the lesster closest number)\n",
    "\n",
    "print(\"test\" * 3) # Prints \"test\" 3 times"
   ]
  },
  {
   "cell_type": "code",
   "execution_count": 3,
   "metadata": {},
   "outputs": [
    {
     "name": "stdout",
     "output_type": "stream",
     "text": [
      "===>Modulo\n",
      "1\n",
      "2\n"
     ]
    }
   ],
   "source": [
    "print(\"===>Modulo/Remainder\")\n",
    "print(15%2)  #1\n",
    "print(8%3) #1 , result 0 and reminder 1"
   ]
  },
  {
   "cell_type": "code",
   "execution_count": 5,
   "metadata": {},
   "outputs": [
    {
     "name": "stdout",
     "output_type": "stream",
     "text": [
      "===>Exponential\n",
      "9\n"
     ]
    }
   ],
   "source": [
    "print(\"===>Exponential\")\n",
    "print(3**2) "
   ]
  },
  {
   "cell_type": "code",
   "execution_count": 8,
   "metadata": {},
   "outputs": [
    {
     "name": "stdout",
     "output_type": "stream",
     "text": [
      "===>BIT Operators\n",
      "11\n"
     ]
    }
   ],
   "source": [
    "print(\"===>BIT Operators\")\n",
    "a=1; b=10\n",
    "print(a | b)"
   ]
  },
  {
   "cell_type": "markdown",
   "metadata": {},
   "source": [
    "## IS operator"
   ]
  },
  {
   "cell_type": "code",
   "execution_count": 2,
   "metadata": {},
   "outputs": [
    {
     "name": "stdout",
     "output_type": "stream",
     "text": [
      "===>Special Operator : IS\n",
      "True\n",
      "True\n",
      "False\n"
     ]
    }
   ],
   "source": [
    "print(\"===>Special Operator : IS\")\n",
    "a=5; \n",
    "a1= a\n",
    "print(a1 is a)  #Both points to the same object\n",
    "\n",
    "b=5\n",
    "print(a is b)  # NOTE: Both points to the same object in memory\n",
    "\n",
    "s1 = \"abcd\"; s2 = \"abc\"\n",
    "print(s1 is s2)  # String a are just like simple data ypes"
   ]
  },
  {
   "cell_type": "code",
   "execution_count": 11,
   "metadata": {},
   "outputs": [
    {
     "name": "stdout",
     "output_type": "stream",
     "text": [
      "False\n"
     ]
    }
   ],
   "source": [
    "# Lists with the same contents are not the same\n",
    "l1 = [1,2,3]\n",
    "l2 = [1,2,3]\n",
    "print(l1 is l2) # Both points to different objects"
   ]
  },
  {
   "cell_type": "markdown",
   "metadata": {},
   "source": [
    "## Membership Operators (IN , NOT IN)"
   ]
  },
  {
   "cell_type": "code",
   "execution_count": null,
   "metadata": {},
   "outputs": [],
   "source": [
    "print(\"===>Membership Operator : IN and NOT IN to check for existance in a Collection\")\n",
    "\n",
    "\n",
    "primesDict = {2 : \"Two\", 3 : \"Three\", 5:\"Five\"}\n",
    "A = {1, 2, 3}\n",
    "print(1 in A, 4 not in A) #True, False\n",
    "\n",
    "myDict = {'1': 'john','2':6734, '3': 'sales'}\n",
    "print('1' in myDict)  #Checks for the Key existance - True\n",
    "print('john' in myDict)  #Checks for the Key existance, NOT values"
   ]
  },
  {
   "cell_type": "code",
   "execution_count": null,
   "metadata": {},
   "outputs": [],
   "source": []
  }
 ],
 "metadata": {
  "kernelspec": {
   "display_name": "Python 3",
   "language": "python",
   "name": "python3"
  },
  "language_info": {
   "codemirror_mode": {
    "name": "ipython",
    "version": 3
   },
   "file_extension": ".py",
   "mimetype": "text/x-python",
   "name": "python",
   "nbconvert_exporter": "python",
   "pygments_lexer": "ipython3",
   "version": "3.6.5"
  }
 },
 "nbformat": 4,
 "nbformat_minor": 2
}
