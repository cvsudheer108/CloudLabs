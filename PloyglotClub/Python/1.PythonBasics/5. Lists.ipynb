{
 "cells": [
  {
   "cell_type": "markdown",
   "metadata": {},
   "source": [
    "# Lists\n",
    "1. A list contains items separated by commas and enclosed within square brackets ([]). \n",
    "2. To some extent, lists are similar to a List in C#, BUT IT CAN HOLD iTEMS OF DIFFERENT TYPE"
   ]
  },
  {
   "cell_type": "markdown",
   "metadata": {},
   "source": [
    "### Define List"
   ]
  },
  {
   "cell_type": "code",
   "execution_count": 7,
   "metadata": {},
   "outputs": [
    {
     "name": "stdout",
     "output_type": "stream",
     "text": [
      "['abcd', 786, 2.23, 'john', 70.2]\n",
      "[100, '12', 'Ram']\n",
      "[[1, 2], [3, 4], 5, 6]\n",
      "[3, 2, 1]\n",
      "<list_reverseiterator object at 0x7f24f46ef5c0>\n"
     ]
    }
   ],
   "source": [
    "lst = [ 'abcd', 786 , 2.23, 'john', 70.2 ]\n",
    "tinylist = [123, 'john']\n",
    "print(lst)\n",
    "\n",
    "# Using append()\n",
    "lst2 = []  #Empty List\n",
    "lst2.append(100)\n",
    "lst2.append(\"12\")\n",
    "lst2.append('Ram')\n",
    "print(lst2)\n",
    "\n",
    "#List of Lists\n",
    "lst3 = [[1,2], [3,4],5,6]\n",
    "print(lst3)\n",
    "\n",
    "# Using list() constrctor\n",
    "lst4 = list(reversed([1,2,3])) ## Converts the object returned by reversed() to a another list\n",
    "print(lst4)\n"
   ]
  },
  {
   "cell_type": "markdown",
   "metadata": {},
   "source": [
    "## List Indexing"
   ]
  },
  {
   "cell_type": "code",
   "execution_count": 36,
   "metadata": {},
   "outputs": [
    {
     "name": "stdout",
     "output_type": "stream",
     "text": [
      "2.23\n",
      "john\n",
      "abcd\n"
     ]
    }
   ],
   "source": [
    "lst = [ 'abcd', 786 , 2.23, 'john', 70.2 ]\n",
    "print(lst[2])   # Second item\n",
    "print(lst[-2])    # Second from last\n",
    "print(lst[-len(lst)])   #Get the first item in the list using negative indexing"
   ]
  },
  {
   "cell_type": "markdown",
   "metadata": {},
   "source": [
    "# List Slicing"
   ]
  },
  {
   "cell_type": "code",
   "execution_count": 5,
   "metadata": {},
   "outputs": [
    {
     "name": "stdout",
     "output_type": "stream",
     "text": [
      "abcd\n"
     ]
    }
   ],
   "source": [
    "print (lst[0])       # Prints first element of the lst"
   ]
  },
  {
   "cell_type": "code",
   "execution_count": 6,
   "metadata": {},
   "outputs": [
    {
     "name": "stdout",
     "output_type": "stream",
     "text": [
      "[786, 2.23]\n",
      "[2.23, 'john', 70.2]\n"
     ]
    }
   ],
   "source": [
    "print (lst[1:3])     # Prints elements with index : 1,2\n",
    "print (lst[2:])      # Prints elements : 2 till end"
   ]
  },
  {
   "cell_type": "code",
   "execution_count": 2,
   "metadata": {},
   "outputs": [
    {
     "name": "stdout",
     "output_type": "stream",
     "text": [
      "['abcd', 2.23, 70.2]\n",
      "[70.2, 'john', 2.23, 786, 'abcd']\n",
      "[70.2, 'john', 2.23, 786, 'abcd']\n"
     ]
    }
   ],
   "source": [
    "print (lst[::2])      # Prints from stat to end, step 2\n",
    "print (lst[::-1])      # Prints elements start to end, step -1, means : REVERSE LIST\n",
    "print(list(reversed(lst)))   #Use reversed() function"
   ]
  },
  {
   "cell_type": "code",
   "execution_count": 11,
   "metadata": {},
   "outputs": [
    {
     "name": "stdout",
     "output_type": "stream",
     "text": [
      "[123, 'john', 123, 'john']\n"
     ]
    }
   ],
   "source": [
    "print (tinylist * 2)  # Prints list two times"
   ]
  },
  {
   "cell_type": "code",
   "execution_count": 12,
   "metadata": {},
   "outputs": [
    {
     "name": "stdout",
     "output_type": "stream",
     "text": [
      "['abcd', 786, 2.23, 'john', 70.2, 123, 'john']\n"
     ]
    }
   ],
   "source": [
    "print (lst + tinylist) # Prints concatenated lists"
   ]
  },
  {
   "cell_type": "markdown",
   "metadata": {},
   "source": [
    "## Ressigning List or items"
   ]
  },
  {
   "cell_type": "code",
   "execution_count": 13,
   "metadata": {},
   "outputs": [
    {
     "name": "stdout",
     "output_type": "stream",
     "text": [
      "[['Sudheer1'], 32, 'Kumar']\n"
     ]
    }
   ],
   "source": [
    "tinylist = [\"Sudheer\", 32, \"Kumar\"]\n",
    "tinylist[0] = [\"Sudheer1\"]\n",
    "\n",
    "print(tinylist)"
   ]
  },
  {
   "cell_type": "markdown",
   "metadata": {},
   "source": [
    "## Remeoving an item from the list\n",
    "1. Pop(x) (return value by index)\n",
    "2. del (to delete using index)\n",
    "3. remove() : To  remove an item by value"
   ]
  },
  {
   "cell_type": "code",
   "execution_count": 8,
   "metadata": {},
   "outputs": [
    {
     "name": "stdout",
     "output_type": "stream",
     "text": [
      "chemistry\n",
      "['physics', 1997, 2000]\n",
      "after delete\n",
      "[1997, 2000]\n",
      "[2000]\n"
     ]
    }
   ],
   "source": [
    "list1 = ['physics', 'chemistry', 1997, 2000]\n",
    "a = list1.pop(1)  #remove item 1, not PEEKING\n",
    "print(a)\n",
    "print(list1)\n",
    "\n",
    "print(\"after delete\")\n",
    "del (list1[0])\n",
    "print(list1)\n",
    "\n",
    "list1.remove(1997)\n",
    "print(list1)"
   ]
  },
  {
   "cell_type": "markdown",
   "metadata": {},
   "source": [
    "## extend() OR + or append()"
   ]
  },
  {
   "cell_type": "code",
   "execution_count": 12,
   "metadata": {},
   "outputs": [
    {
     "name": "stdout",
     "output_type": "stream",
     "text": [
      "\n",
      "==> extend() - append the items from another list #\n",
      "[1, 2, 'a', 'b']\n",
      "['a', 'b']\n",
      "\n",
      "==> When you use +, you are extending the list #\n",
      "[1, 2, 'a', 'b', 'a', 'b']\n",
      "['a', 'b']\n"
     ]
    }
   ],
   "source": [
    "list1 = [1,2]\n",
    "list2 = [\"a\",\"b\"]\n",
    "print(\"\\n==> extend() - append the items from another list #\")\n",
    "list1.extend(list2)   \n",
    "print(list1)\n",
    "print(list2)\n",
    "print(\"\\n==> When you use +, you are extending the list #\")\n",
    "list1 = list1 + list2\n",
    "print(list1)\n",
    "print(list2)"
   ]
  },
  {
   "cell_type": "markdown",
   "metadata": {},
   "source": [
    "## Insert at a specific position"
   ]
  },
  {
   "cell_type": "code",
   "execution_count": 14,
   "metadata": {},
   "outputs": [
    {
     "name": "stdout",
     "output_type": "stream",
     "text": [
      "[100, 'abc', 200]\n"
     ]
    }
   ],
   "source": [
    "list1 = [100,200]\n",
    "list1.insert(1, \"abc\")\n",
    "print(list1)"
   ]
  },
  {
   "cell_type": "markdown",
   "metadata": {},
   "source": [
    "## Remove first occurance of an element in a list (if there are multiple)"
   ]
  },
  {
   "cell_type": "code",
   "execution_count": 15,
   "metadata": {},
   "outputs": [
    {
     "name": "stdout",
     "output_type": "stream",
     "text": [
      "[200, 300, 100, 400]\n"
     ]
    }
   ],
   "source": [
    "list1 = [100,200,300,100,400]\n",
    "list1.remove(100)\n",
    "print(list1)"
   ]
  },
  {
   "cell_type": "markdown",
   "metadata": {},
   "source": [
    "## List and Membership Operators (IN , NOT IN)"
   ]
  },
  {
   "cell_type": "code",
   "execution_count": 16,
   "metadata": {},
   "outputs": [
    {
     "name": "stdout",
     "output_type": "stream",
     "text": [
      "1000 is in list1\n",
      "900 is NOT IN the list\n"
     ]
    }
   ],
   "source": [
    "list1 = [100,200,300,100,400]\n",
    "if 100 in list1:\n",
    "    print (\"100 is in list1\")\n",
    "if(900 not in list1):\n",
    "    print(\"900 is NOT IN list1\")"
   ]
  },
  {
   "cell_type": "markdown",
   "metadata": {},
   "source": [
    "## Reverse a List (revserse() and resersed(x) )\n",
    "1. reverse() actually reverses the elements in the container.\n",
    "2. reversed() doesn't actually reverse anything, it merely returns an object that can be used to iterate over the container's elements in reverse order."
   ]
  },
  {
   "cell_type": "code",
   "execution_count": 23,
   "metadata": {},
   "outputs": [
    {
     "name": "stdout",
     "output_type": "stream",
     "text": [
      "[4, 'ab', 3, 2, 1]\n",
      "[1, 2, 3, 'ab', 4]\n"
     ]
    }
   ],
   "source": [
    "list1 = [1,2,3,\"ab\", 4]\n",
    "list1.reverse()   ## Does inline reverse\n",
    "print(list1)\n",
    "\n",
    "list2 = list(reversed(list1))\n",
    "print(list2)"
   ]
  },
  {
   "cell_type": "markdown",
   "metadata": {},
   "source": [
    "## Sorting List - sorted() and sort()"
   ]
  },
  {
   "cell_type": "code",
   "execution_count": 30,
   "metadata": {},
   "outputs": [
    {
     "name": "stdout",
     "output_type": "stream",
     "text": [
      "[2, 3.5, 4, 30, 100]\n",
      "[100, 30, 4, 3.5, 2]\n",
      "[20, 30, 30.5, 40, 1000]\n"
     ]
    }
   ],
   "source": [
    "#sorted()\n",
    "list1 = [100,2,30,3.5, 4]\n",
    "print(sorted(list1))   # SCD by default\n",
    "print(sorted(list1, reverse=True))   # DESC sorting\n",
    "\n",
    "# Implace Sorting - sort()\n",
    "list2 = [1000,20,30,30.5, 40]\n",
    "list2.sort()\n",
    "print(list2)\n"
   ]
  },
  {
   "cell_type": "markdown",
   "metadata": {},
   "source": [
    "## FInd the no of occurence of a list item"
   ]
  },
  {
   "cell_type": "code",
   "execution_count": 37,
   "metadata": {},
   "outputs": [
    {
     "name": "stdout",
     "output_type": "stream",
     "text": [
      "2\n"
     ]
    }
   ],
   "source": [
    "list1 = [100,2,30,3.5, 30]\n",
    "print(list1.count(30))"
   ]
  },
  {
   "cell_type": "markdown",
   "metadata": {},
   "source": [
    "## List Iteration : for ele in list"
   ]
  },
  {
   "cell_type": "code",
   "execution_count": 38,
   "metadata": {},
   "outputs": [
    {
     "name": "stdout",
     "output_type": "stream",
     "text": [
      "100\n",
      "2\n",
      "30\n",
      "3.5\n",
      "30\n"
     ]
    }
   ],
   "source": [
    "list1 = [100,2,30,3.5, 30]\n",
    "for ele in list1:\n",
    "    print(ele)\n"
   ]
  },
  {
   "cell_type": "markdown",
   "metadata": {},
   "source": [
    "## Create a Matrix using Lists\n",
    "1. Matrix is a list of lists"
   ]
  },
  {
   "cell_type": "code",
   "execution_count": 42,
   "metadata": {},
   "outputs": [
    {
     "name": "stdout",
     "output_type": "stream",
     "text": [
      "[[1, 2, 3, 4], [5, 6, 7, 8], [9, 10, 11, 12]]\n",
      "[1, 2, 3, 4]\n",
      "[5, 6, 7, 8]\n",
      "[9, 10, 11, 12]\n"
     ]
    }
   ],
   "source": [
    "matrix = [\n",
    "            [1,2,3,4],\n",
    "            [5,6,7,8],\n",
    "            [9,10,11,12]\n",
    "        ]\n",
    "print(matrix)\n",
    "# Iterate through each row\n",
    "for row in matrix:\n",
    "    print(row)"
   ]
  },
  {
   "cell_type": "markdown",
   "metadata": {},
   "source": [
    "## List Comprehension : Create new lists from existing using []"
   ]
  },
  {
   "cell_type": "code",
   "execution_count": 39,
   "metadata": {},
   "outputs": [
    {
     "name": "stdout",
     "output_type": "stream",
     "text": [
      "[10000, 4, 900, 12.25, 900]\n"
     ]
    }
   ],
   "source": [
    "list1 = [100,2,30,3.5, 30]\n",
    "sqList = [i**2 for i in list1]\n",
    "print(sqList)"
   ]
  },
  {
   "cell_type": "code",
   "execution_count": 40,
   "metadata": {},
   "outputs": [
    {
     "name": "stdout",
     "output_type": "stream",
     "text": [
      "[(100, 10000), (2, 4), (30, 900), (3.5, 12.25), (30, 900)]\n"
     ]
    }
   ],
   "source": [
    "# List Comprehension - Create a list of Tuples\n",
    "list1 = [100,2,30,3.5, 30]\n",
    "squareTuples = [(i, i**2) for i in list1]\n",
    "print(squareTuples)"
   ]
  },
  {
   "cell_type": "code",
   "execution_count": 43,
   "metadata": {},
   "outputs": [
    {
     "name": "stdout",
     "output_type": "stream",
     "text": [
      "[[1, 5, 9], [2, 6, 10], [3, 7, 11], [4, 8, 12]]\n"
     ]
    }
   ],
   "source": [
    "# Tranpose a matrix using list comprehension\n",
    "matrix = [\n",
    "            [1,2,3,4],\n",
    "            [5,6,7,8],\n",
    "            [9,10,11,12]\n",
    "        ]\n",
    "transposed = []\n",
    "for i in range(4):  # No of columns = 4\n",
    "    lst = []\n",
    "    for row in matrix:\n",
    "        lst.append(row[i])\n",
    "    transposed.append(lst)\n",
    "print(transposed)"
   ]
  },
  {
   "cell_type": "code",
   "execution_count": 49,
   "metadata": {},
   "outputs": [
    {
     "name": "stdout",
     "output_type": "stream",
     "text": [
      "0\n",
      "1\n",
      "2\n",
      "3\n",
      "[[1, 5, 9], [2, 6, 10], [3, 7, 11], [4, 8, 12]]\n"
     ]
    }
   ],
   "source": [
    "for i in range(4):\n",
    "    print(i)\n",
    "# Tranpose with Comprehension\n",
    "matrix = [\n",
    "            [1,2,3,4],\n",
    "            [5,6,7,8],\n",
    "            [9,10,11,12]\n",
    "          ]\n",
    "transposed1 = [ [row[i] for row in matrix] for i in range(4)]\n",
    "print(transposed1)"
   ]
  },
  {
   "cell_type": "code",
   "execution_count": null,
   "metadata": {},
   "outputs": [],
   "source": []
  },
  {
   "cell_type": "code",
   "execution_count": null,
   "metadata": {},
   "outputs": [],
   "source": []
  },
  {
   "cell_type": "code",
   "execution_count": null,
   "metadata": {},
   "outputs": [],
   "source": []
  },
  {
   "cell_type": "code",
   "execution_count": null,
   "metadata": {},
   "outputs": [],
   "source": []
  },
  {
   "cell_type": "code",
   "execution_count": null,
   "metadata": {},
   "outputs": [],
   "source": []
  }
 ],
 "metadata": {
  "kernelspec": {
   "display_name": "Python 3",
   "language": "python",
   "name": "python3"
  },
  "language_info": {
   "codemirror_mode": {
    "name": "ipython",
    "version": 3
   },
   "file_extension": ".py",
   "mimetype": "text/x-python",
   "name": "python",
   "nbconvert_exporter": "python",
   "pygments_lexer": "ipython3",
   "version": "3.7.1"
  }
 },
 "nbformat": 4,
 "nbformat_minor": 2
}
