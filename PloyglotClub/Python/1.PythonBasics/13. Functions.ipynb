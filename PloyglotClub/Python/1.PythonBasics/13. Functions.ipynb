{
 "cells": [
  {
   "cell_type": "markdown",
   "metadata": {},
   "source": [
    "# Functions \n",
    "Functions helps to breakdown the program to smaller chunks, makes your code more re-usable and modular.\n",
    "Here is how you define a function in Python.\n",
    "\n",
    "## Function Types\n",
    "1. Built-in\n",
    "2. User Defined\n"
   ]
  },
  {
   "cell_type": "markdown",
   "metadata": {},
   "source": [
    "## Built-in Functions"
   ]
  },
  {
   "cell_type": "code",
   "execution_count": 76,
   "metadata": {},
   "outputs": [
    {
     "name": "stdout",
     "output_type": "stream",
     "text": [
      "100\n",
      "3.2\n"
     ]
    }
   ],
   "source": [
    "# abs() - Absolute vakue of a number\n",
    "print(abs(-100))\n",
    "print(abs(-3.2))"
   ]
  },
  {
   "cell_type": "code",
   "execution_count": 75,
   "metadata": {},
   "outputs": [
    {
     "name": "stdout",
     "output_type": "stream",
     "text": [
      "True\n",
      "False\n",
      "True\n",
      "False\n"
     ]
    }
   ],
   "source": [
    "# all() - Return true if all members in an iterable are true (Non-Zero, non-None)\n",
    "print(all([1,2,3,4]))\n",
    "print(all((0,2,3,4)))\n",
    "print(all([]))          #Gotcha: Empty list is True\n",
    "print(all([None, 1]) ) \n"
   ]
  },
  {
   "cell_type": "code",
   "execution_count": 78,
   "metadata": {},
   "outputs": [
    {
     "name": "stdout",
     "output_type": "stream",
     "text": [
      "['__add__', '__class__', '__contains__', '__delattr__', '__delitem__', '__dir__', '__doc__', '__eq__', '__format__', '__ge__', '__getattribute__', '__getitem__', '__gt__', '__hash__', '__iadd__', '__imul__', '__init__', '__init_subclass__', '__iter__', '__le__', '__len__', '__lt__', '__mul__', '__ne__', '__new__', '__reduce__', '__reduce_ex__', '__repr__', '__reversed__', '__rmul__', '__setattr__', '__setitem__', '__sizeof__', '__str__', '__subclasshook__', 'append', 'clear', 'copy', 'count', 'extend', 'index', 'insert', 'pop', 'remove', 'reverse', 'sort']\n"
     ]
    }
   ],
   "source": [
    "# dir() - Returns the valid attributes of a type\n",
    "lst = [1,2,3]\n",
    "print(dir(lst))  # List all valid operations on the variable : list"
   ]
  },
  {
   "cell_type": "code",
   "execution_count": 79,
   "metadata": {},
   "outputs": [
    {
     "name": "stdout",
     "output_type": "stream",
     "text": [
      "(4, 1)\n"
     ]
    }
   ],
   "source": [
    "# divmod() - Return the quotient and reminder in a tuple\n",
    "print(divmod(9,2))"
   ]
  },
  {
   "cell_type": "code",
   "execution_count": 81,
   "metadata": {},
   "outputs": [
    {
     "name": "stdout",
     "output_type": "stream",
     "text": [
      "0 10\n",
      "1 20\n",
      "2 30\n"
     ]
    }
   ],
   "source": [
    "# enumerate() - TO get an item and index to an enumerable in one shot.\n",
    "# NOTE: That list, range() etc. is enumerable by default, but if you need an idex, use enumerate() function.\n",
    "lst = [10,20,30]\n",
    "for index, item in enumerate(lst):\n",
    "    print(index, item)\n"
   ]
  },
  {
   "cell_type": "code",
   "execution_count": 2,
   "metadata": {},
   "outputs": [
    {
     "name": "stdout",
     "output_type": "stream",
     "text": [
      "range(-5, 5)\n",
      "[1, 2, 3]\n",
      "[-5, -4, -3, -2, -1, 0, 1, 2, 3, 4]\n"
     ]
    }
   ],
   "source": [
    "#################### Create a list from range()##############################################\n",
    "# range(5) : gives an iterable from 0 to n-1 : 0 to 4\n",
    "# range(-5,5) : from -5 to 4\n",
    "print(range(-5,5))       # pritns a range object, note range() physically doesn't contain the range, \n",
    "                         #but just iterates.\n",
    "print([1,2,3])      # prints a list object and shows its contents\n",
    "print(list(range(-5,5)))"
   ]
  },
  {
   "cell_type": "markdown",
   "metadata": {},
   "source": [
    "## filter(filter_fn, iterable) \n",
    "Filter an iterable w/o having to use a for loop <br/>\n",
    "The filter() method returns an iterator that passed the function check for each element in the iterable."
   ]
  },
  {
   "cell_type": "code",
   "execution_count": 1,
   "metadata": {},
   "outputs": [
    {
     "name": "stdout",
     "output_type": "stream",
     "text": [
      "<filter object at 0x7fbde4c26710>\n",
      "[1, 2, 3, 4]\n"
     ]
    }
   ],
   "source": [
    "# filter(filter_fn, iterable) : To filter an iterable\n",
    "def get_positive(num):\n",
    "    #print(\"here\")\n",
    "    if (num > 0):\n",
    "        return num\n",
    "    \n",
    "list1 = list(range(-5,5))\n",
    "print(filter(get_positive, list1))\n",
    "list2 = list(filter(get_positive, list1))  #lst() constrcutor converts the iterable to a list\n",
    "print(list2)\n",
    "    "
   ]
  },
  {
   "cell_type": "markdown",
   "metadata": {},
   "source": [
    "## map(mapping_fn, iterable)\n",
    "Map an iterable to another map using a map function <br/>\n",
    "Returns an iterable\n"
   ]
  },
  {
   "cell_type": "code",
   "execution_count": 2,
   "metadata": {},
   "outputs": [
    {
     "name": "stdout",
     "output_type": "stream",
     "text": [
      "<map object at 0x7fbde4c26630>\n",
      "[4, 16, 36, 64]\n"
     ]
    }
   ],
   "source": [
    "# map(mapping_fn, iterable)\n",
    "def get_square_num(num):\n",
    "    return num ** 2\n",
    "\n",
    "list1 = [2,4,6,8]\n",
    "print(map(get_square_num,list1))\n",
    "list2 = list(map(get_square_num,list1))\n",
    "print(list2)"
   ]
  },
  {
   "cell_type": "markdown",
   "metadata": {},
   "source": [
    "## reduce(reduce_fn, result)\n",
    "Reduce an iterable to a product using a reduce function"
   ]
  },
  {
   "cell_type": "code",
   "execution_count": 3,
   "metadata": {},
   "outputs": [
    {
     "name": "stdout",
     "output_type": "stream",
     "text": [
      "2 4\n",
      "8 6\n",
      "48 8\n",
      "Mul Result: 384\n",
      "Add Result: 21\n",
      "Add Result: 20\n"
     ]
    }
   ],
   "source": [
    "# reduce() : Apply an operation sequentially on all elements of an iterable. So a reduce function will always take\n",
    "            # multiple arguments\n",
    "# format : def reduce(function, iterable, initializer=None):\n",
    "# If Initializer is not provided, the first value is taken as initializer.\n",
    "\n",
    "from functools import reduce\n",
    "def get_product(x,y):\n",
    "    print(x,y)   # Check how the list is being passed over to reduce\n",
    "    return x * y\n",
    "\n",
    "def get_sum(x, y):\n",
    "    return x + y\n",
    "\n",
    "list1 = [2,4,6,8]\n",
    "product = reduce(get_product, list1)  \n",
    "print(\"Mul Result:\", product)\n",
    "\n",
    "product = reduce(get_sum, list1, 1) # 1 is the initilizer, value of x in the first itertion. \n",
    "print(\"Add Result:\", product)\n",
    "\n",
    "product = reduce(get_sum, list1) # No initializer\n",
    "print(\"Add Result:\", product)"
   ]
  },
  {
   "cell_type": "code",
   "execution_count": 94,
   "metadata": {},
   "outputs": [
    {
     "name": "stdout",
     "output_type": "stream",
     "text": [
      "True\n",
      "False\n"
     ]
    }
   ],
   "source": [
    "# isinstance(instance, type)\n",
    "list1 = [1,2,3,4]\n",
    "print(isinstance(list1, list))\n",
    "print(isinstance(list1, tuple))"
   ]
  },
  {
   "cell_type": "code",
   "execution_count": null,
   "metadata": {},
   "outputs": [],
   "source": []
  },
  {
   "cell_type": "code",
   "execution_count": null,
   "metadata": {},
   "outputs": [],
   "source": []
  },
  {
   "cell_type": "markdown",
   "metadata": {},
   "source": [
    "# User Defined Functions\n",
    "There are the functions defined \n",
    "\n",
    "\n",
    "## Syntax:\n",
    "\n",
    "def function_name(arguments):<br>\n",
    "> .....<br>\n",
    "  function logic<br>\n",
    "  ....<br>\n",
    "  optional return value<br>\n"
   ]
  },
  {
   "cell_type": "code",
   "execution_count": 45,
   "metadata": {},
   "outputs": [
    {
     "name": "stdout",
     "output_type": "stream",
     "text": [
      "Hello : Mike\n"
     ]
    }
   ],
   "source": [
    "def print_name(name):\n",
    "    \"\"\"\n",
    "    This function prints the name passed\n",
    "    \"\"\"\n",
    "    \n",
    "    print(\"Hello : \" + name)\n",
    "\n",
    "# Invoking the functio\n",
    "print_name('Mike')"
   ]
  },
  {
   "cell_type": "markdown",
   "metadata": {},
   "source": [
    "## Doc String\n",
    "\n",
    "Gives the string documentation, if any.\n",
    "Note the documentation should be inside the function, intended, as the first line."
   ]
  },
  {
   "cell_type": "code",
   "execution_count": 46,
   "metadata": {},
   "outputs": [
    {
     "name": "stdout",
     "output_type": "stream",
     "text": [
      "\n",
      "    This function prints the name passed\n",
      "    \n"
     ]
    }
   ],
   "source": [
    "print(print_name.__doc__)"
   ]
  },
  {
   "cell_type": "markdown",
   "metadata": {},
   "source": [
    "## Return\n",
    "\n",
    "The return value from a function is optional.\n",
    "Default return value of a fucntion is None."
   ]
  },
  {
   "cell_type": "code",
   "execution_count": 6,
   "metadata": {},
   "outputs": [
    {
     "name": "stdout",
     "output_type": "stream",
     "text": [
      "60.6\n"
     ]
    }
   ],
   "source": [
    "def get_sum(lst):\n",
    "    \"\"\"Returns the sume of the membbers of a list\"\"\"\n",
    "    _sum = 0\n",
    "    for num in lst:\n",
    "        _sum += num\n",
    "    return _sum\n",
    "\n",
    "#Invoke\n",
    "s = get_sum([10,20,30.6])\n",
    "print(s)    # Prints None"
   ]
  },
  {
   "cell_type": "code",
   "execution_count": 2,
   "metadata": {},
   "outputs": [
    {
     "name": "stdout",
     "output_type": "stream",
     "text": [
      "test\n",
      "20\n"
     ]
    }
   ],
   "source": [
    "# Return multiple values using a class\n",
    "class Test: \n",
    "    def __init__(self): \n",
    "        self.str = \"test\"\n",
    "        self.x = 20   \n",
    "  \n",
    "# This function returns an object of Test \n",
    "def fun(): \n",
    "    return Test() \n",
    "      \n",
    "# Driver code to test above method \n",
    "t = fun()  \n",
    "print(t.str) \n",
    "print(t.x)"
   ]
  },
  {
   "cell_type": "code",
   "execution_count": 4,
   "metadata": {},
   "outputs": [
    {
     "name": "stdout",
     "output_type": "stream",
     "text": [
      "test\n",
      "20\n",
      "100\n"
     ]
    }
   ],
   "source": [
    "#Return tuple, immutable......(recommended)\n",
    "def fun(): \n",
    "    str = \"test\"\n",
    "    x   = 20\n",
    "    y = 100\n",
    "    return str, x, y  # Return tuple, we could also \n",
    "                    # write (str, x, y) \n",
    "  \n",
    "# Driver code to test above method \n",
    "str, x, y = fun() # Assign returned tuple OR (str, x, y)= fun()\n",
    "print(str) \n",
    "print(x) \n",
    "print(y)"
   ]
  },
  {
   "cell_type": "code",
   "execution_count": 5,
   "metadata": {},
   "outputs": [
    {
     "name": "stdout",
     "output_type": "stream",
     "text": [
      "['geeksforgeeks', 20]\n"
     ]
    }
   ],
   "source": [
    "# Return a list, mutable\n",
    "def fun(): \n",
    "    str = \"geeksforgeeks\"\n",
    "    x = 20   \n",
    "    return [str, x] \n",
    "  \n",
    "# Driver code to test above method \n",
    "list = fun()  \n",
    "print(list) "
   ]
  },
  {
   "cell_type": "code",
   "execution_count": 1,
   "metadata": {},
   "outputs": [
    {
     "name": "stdout",
     "output_type": "stream",
     "text": [
      "{'str': 'GeeksforGeeks', 'x': 20}\n"
     ]
    }
   ],
   "source": [
    "#Return Dictionary, mutable\n",
    "def fun(): \n",
    "    d = dict();  \n",
    "    d['str'] = \"GeeksforGeeks\"\n",
    "    d['x']   = 20\n",
    "    return d \n",
    "    #return {10:20, 12:30}  \n",
    "  \n",
    "# Driver code to test above method \n",
    "d = fun()  \n",
    "print(d) "
   ]
  },
  {
   "cell_type": "code",
   "execution_count": null,
   "metadata": {},
   "outputs": [],
   "source": []
  },
  {
   "cell_type": "markdown",
   "metadata": {},
   "source": [
    "## Variable Scope\n",
    "\n",
    "Variables defined globally have global scope.\n",
    "The local variables are not accessible outside the function."
   ]
  },
  {
   "cell_type": "code",
   "execution_count": 7,
   "metadata": {},
   "outputs": [
    {
     "name": "stdout",
     "output_type": "stream",
     "text": [
      "1.0\n"
     ]
    }
   ],
   "source": [
    "# Underscopre could indicate global scope by convention\n",
    "_version = \"1.0\"\n",
    "def test_scope():\n",
    "    \"\"\"This function test the scope\"\"\"\n",
    "    #Local variable\n",
    "    name = \"Mike\"\n",
    "\n",
    "print(_version)\n",
    "# print(name)    # Error : Name is not defined"
   ]
  },
  {
   "cell_type": "markdown",
   "metadata": {},
   "source": [
    "## Python Program to Print HCF between 2 numbers"
   ]
  },
  {
   "cell_type": "code",
   "execution_count": 8,
   "metadata": {},
   "outputs": [
    {
     "name": "stdout",
     "output_type": "stream",
     "text": [
      "5\n",
      "2\n",
      "1\n"
     ]
    }
   ],
   "source": [
    "def get_HCF(a,b):\n",
    "    \"\"\"Return hcf between 2 numbers. For example HCF between 5 and 10 is 5, 34 & 14 is 2\"\"\"\n",
    "    hcf = 1\n",
    "    smaller = b if a > b else a   \n",
    "    for num in range(smaller,1,-1):    #range: smaller to until 1 in steps of -1\n",
    "        #print(num, a % num, b % num, a % num == 0 and b % num == 0)\n",
    "        if(a % num == 0 and b % num == 0):\n",
    "            hcf = num\n",
    "            break        \n",
    "    return hcf\n",
    "            \n",
    "        \n",
    "# Invoke\n",
    "print(get_HCF(5,10))\n",
    "print(get_HCF(34,14))\n",
    "print(get_HCF(3,13))\n",
    "    "
   ]
  },
  {
   "cell_type": "markdown",
   "metadata": {},
   "source": [
    "for num in range(5,0,-1):\n",
    "    print(num)"
   ]
  },
  {
   "cell_type": "markdown",
   "metadata": {},
   "source": [
    "## Function Arguments"
   ]
  },
  {
   "cell_type": "code",
   "execution_count": 1,
   "metadata": {},
   "outputs": [
    {
     "name": "stdout",
     "output_type": "stream",
     "text": [
      "Hello  Mike ,  Time for Break\n"
     ]
    }
   ],
   "source": [
    "def get_greeting(name, msg):\n",
    "    print(\"Hello \", name, \", \", msg)\n",
    "get_greeting(\"Mike\", \"Time for Break\")"
   ]
  },
  {
   "cell_type": "code",
   "execution_count": 2,
   "metadata": {},
   "outputs": [
    {
     "ename": "TypeError",
     "evalue": "get_greeting() missing 1 required positional argument: 'msg'",
     "output_type": "error",
     "traceback": [
      "\u001b[0;31m---------------------------------------------------------------------------\u001b[0m",
      "\u001b[0;31mTypeError\u001b[0m                                 Traceback (most recent call last)",
      "\u001b[0;32m<ipython-input-2-93690a336672>\u001b[0m in \u001b[0;36m<module>\u001b[0;34m\u001b[0m\n\u001b[0;32m----> 1\u001b[0;31m \u001b[0mget_greeting\u001b[0m\u001b[0;34m(\u001b[0m\u001b[0;34m\"Mike\"\u001b[0m\u001b[0;34m)\u001b[0m\u001b[0;34m\u001b[0m\u001b[0;34m\u001b[0m\u001b[0m\n\u001b[0m",
      "\u001b[0;31mTypeError\u001b[0m: get_greeting() missing 1 required positional argument: 'msg'"
     ]
    }
   ],
   "source": [
    "get_greeting(\"Mike\")  # Error : Missing Positional Argument"
   ]
  },
  {
   "cell_type": "markdown",
   "metadata": {},
   "source": [
    "### Default Argument"
   ]
  },
  {
   "cell_type": "code",
   "execution_count": 7,
   "metadata": {},
   "outputs": [
    {
     "name": "stdout",
     "output_type": "stream",
     "text": [
      "Hello  Mike ,  Have a good day!\n",
      "Hello  Som ,  Have a good day!\n"
     ]
    }
   ],
   "source": [
    "def get_greeting(name, msg = \"Have a good day!\"):\n",
    "    print(\"Hello \", name, \", \", msg)\n",
    "\n",
    "get_greeting(\"Mike\")\n",
    "\n",
    "# Named Argument Passing\n",
    "get_greeting(name=\"Som\")"
   ]
  },
  {
   "cell_type": "markdown",
   "metadata": {},
   "source": [
    "### Arbitrary Arguments & Keyword Auguments\n",
    "\n",
    "(args) - to pass parameter (an array of arguements). - Also called __Arbitrary Arguments__. (Param array in C#)\n",
    "\n",
    "\n",
    "(kwargs) to pass kw parameters ( an array of (key + value) arguments).\n",
    "\n",
    "Also you can pass a regular arguemnt along with keyword arguments.\n"
   ]
  },
  {
   "cell_type": "code",
   "execution_count": 71,
   "metadata": {},
   "outputs": [
    {
     "name": "stdout",
     "output_type": "stream",
     "text": [
      "regular arg: 1\n",
      "param arg  0  :  two\n",
      "param arg  1  :  3\n"
     ]
    }
   ],
   "source": [
    "def test_var_args(farg, *args):\n",
    "    print (\"regular arg:\", farg)\n",
    "    for index, arg in enumerate(args):\n",
    "        print (\"param arg \", index, \" : \", arg)\n",
    "\n",
    "test_var_args(1, \"two\", 3)  # NOTE: parameters can be of differnt types"
   ]
  },
  {
   "cell_type": "code",
   "execution_count": 10,
   "metadata": {},
   "outputs": [
    {
     "name": "stdout",
     "output_type": "stream",
     "text": [
      "formal arg: 1\n",
      "keyword arg: 0  =>  key1 two\n",
      "keyword arg: 1  =>  key2 3\n",
      "keyword arg: 2  =>  key3 My Key\n"
     ]
    }
   ],
   "source": [
    "def test_var_kwargs(farg, **kwargs):\n",
    "    print (\"formal arg:\", farg)\n",
    "    for index, key in enumerate(kwargs):\n",
    "        print (\"keyword arg:\", index , \" => \", key, kwargs[key])\n",
    "\n",
    "test_var_kwargs(farg=1, key1=\"two\",key2=3, key3=\"My Key\")"
   ]
  },
  {
   "cell_type": "code",
   "execution_count": null,
   "metadata": {},
   "outputs": [],
   "source": []
  },
  {
   "cell_type": "markdown",
   "metadata": {},
   "source": [
    "# Recursive Function\n",
    "Not very efficient due to recursive calls<br/>\n",
    "Good for splitting a task to mini-tasks <br/>\n",
    "But very hard to debug"
   ]
  },
  {
   "cell_type": "code",
   "execution_count": 24,
   "metadata": {},
   "outputs": [
    {
     "data": {
      "text/plain": [
       "120"
      ]
     },
     "execution_count": 24,
     "metadata": {},
     "output_type": "execute_result"
    }
   ],
   "source": [
    "def factorial(n):\n",
    "    return 1 if n <= 1 else n * factorial(n-1)\n",
    "factorial(5)"
   ]
  },
  {
   "cell_type": "code",
   "execution_count": 1,
   "metadata": {},
   "outputs": [
    {
     "name": "stdout",
     "output_type": "stream",
     "text": [
      "print n series of Fibonacci with out recusion\n",
      "\n",
      " first: 1\n",
      "\n",
      " scond: 1\n",
      "\n",
      " 3 th : 2\n",
      "\n",
      " 4 th : 3\n",
      "\n",
      " 5 th : 5\n",
      "\n",
      " 6 th : 8\n",
      "\n",
      " 7 th : 13\n",
      "\n",
      " 8 th : 21\n",
      "\n",
      " 9 th : 34\n",
      "\n",
      " 10 th : 55\n",
      "None\n",
      "3 rd fib series is  2\n",
      "\n",
      " Print nth fibinacci from 1 to 10th WITH RECUSION\n",
      "1\n",
      "1\n",
      "2\n",
      "3\n",
      "5\n",
      "8\n",
      "13\n",
      "21\n",
      "34\n"
     ]
    }
   ],
   "source": [
    "# Eg: 1 1 2 3 5 8...  (Any number is the sum of previous 2 numbers,if i > second position, ie, from 3rd position)\n",
    "# fib(i) = fib(i-1) + fib(i-2)\n",
    "\n",
    "print(\"print n series of Fibonacci with out recusion\")\n",
    "def print_fibonacci(totNumber):\n",
    "    num1 = 1\n",
    "    num2 = 1\n",
    "    count = 0\n",
    "    for index in range(1,totNumber+1):   # range() print till the last number\n",
    "        if (index < 1):\n",
    "            #Skip.. just continue\n",
    "            continue\n",
    "        if (index == 1):\n",
    "            print(\"\\n first:\", num1)\n",
    "            count = count + 1\n",
    "        elif (index == 2):\n",
    "            print(\"\\n scond:\", num2);\n",
    "            count = count + 1\n",
    "        else:\n",
    "            nextNum = num1 + num2\n",
    "            print(\"\\n\", index, \"th :\", nextNum)\n",
    "            num1 = num2\n",
    "            num2 = nextNum\n",
    "            count = count + 1\n",
    "        \n",
    "print(print_fibonacci(10)) \n",
    "\n",
    "\n",
    "\n",
    "def nth_fibnonacci_with_recusion(n):\n",
    "   return 1 if n<=2 else (nth_fibnonacci_with_recusion(n-1) + nth_fibnonacci_with_recusion(n-2))\n",
    "\n",
    "# Print nth fib sequence\n",
    "print(\"3 rd fib series is \", nth_fibnonacci_with_recusion(3))\n",
    "\n",
    "print(\"\\n Print nth fibinacci from 1 to 10th WITH RECUSION\")\n",
    "for index in range(1,10):\n",
    "    print(nth_fibnonacci_with_recusion(index))  \n",
    "\n",
    "           "
   ]
  },
  {
   "cell_type": "code",
   "execution_count": 56,
   "metadata": {},
   "outputs": [
    {
     "name": "stdout",
     "output_type": "stream",
     "text": [
      "1\n",
      "2\n",
      "3\n",
      "4\n",
      "5\n",
      "6\n",
      "7\n",
      "8\n",
      "9\n"
     ]
    }
   ],
   "source": [
    "for index in range(1,10):\n",
    "    print(index)"
   ]
  },
  {
   "cell_type": "code",
   "execution_count": null,
   "metadata": {},
   "outputs": [],
   "source": []
  },
  {
   "cell_type": "markdown",
   "metadata": {},
   "source": [
    "# Lambda Functions\n",
    "Lambda functions are anonymouns functions, where you can inline the function body"
   ]
  },
  {
   "cell_type": "code",
   "execution_count": 60,
   "metadata": {},
   "outputs": [
    {
     "name": "stdout",
     "output_type": "stream",
     "text": [
      "4\n"
     ]
    }
   ],
   "source": [
    "# Function declaration with Lambda\n",
    "double = lambda x : x  * 2\n",
    "print(double(2))"
   ]
  },
  {
   "cell_type": "code",
   "execution_count": 63,
   "metadata": {},
   "outputs": [
    {
     "name": "stdout",
     "output_type": "stream",
     "text": [
      "[2, 4]\n"
     ]
    }
   ],
   "source": [
    "#Filter with Lambda\n",
    "list1 = [1,2,3,4,5]\n",
    "# Get a list with only even numbers\n",
    "list2 = list(filter(lambda x : x%2 == 0, list1)) # Remember a filter function evaluate to true or false\n",
    "print(list2)"
   ]
  },
  {
   "cell_type": "code",
   "execution_count": 69,
   "metadata": {},
   "outputs": [
    {
     "name": "stdout",
     "output_type": "stream",
     "text": [
      "[1, 4, 9, 16, 25]\n"
     ]
    }
   ],
   "source": [
    "#Map with Lambda\n",
    "list1 = [1,2,3,4,5]\n",
    "# Get a squared list with mapping\n",
    "list2 = list(map(lambda x : x ** 2, list1)) # Remember a map function operate on each function\n",
    "print(list2)"
   ]
  },
  {
   "cell_type": "code",
   "execution_count": 70,
   "metadata": {},
   "outputs": [
    {
     "name": "stdout",
     "output_type": "stream",
     "text": [
      "120\n"
     ]
    }
   ],
   "source": [
    "#Reduce with Lambda\n",
    "from functools import reduce      #from package import module\n",
    "list1 = [1,2,3,4,5]\n",
    "# Reduce the list to get a multiply of all the members\n",
    "product = reduce(lambda x,y : x * y, list1)\n",
    "print(product)"
   ]
  },
  {
   "cell_type": "code",
   "execution_count": null,
   "metadata": {},
   "outputs": [],
   "source": []
  },
  {
   "cell_type": "code",
   "execution_count": null,
   "metadata": {},
   "outputs": [],
   "source": []
  },
  {
   "cell_type": "code",
   "execution_count": null,
   "metadata": {},
   "outputs": [],
   "source": []
  }
 ],
 "metadata": {
  "kernelspec": {
   "display_name": "Python 3",
   "language": "python",
   "name": "python3"
  },
  "language_info": {
   "codemirror_mode": {
    "name": "ipython",
    "version": 3
   },
   "file_extension": ".py",
   "mimetype": "text/x-python",
   "name": "python",
   "nbconvert_exporter": "python",
   "pygments_lexer": "ipython3",
   "version": "3.7.1"
  }
 },
 "nbformat": 4,
 "nbformat_minor": 2
}
